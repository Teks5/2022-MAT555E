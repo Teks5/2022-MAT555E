{
 "cells": [
  {
   "cell_type": "markdown",
   "metadata": {},
   "source": [
    "# Demos for Lecture 4\n"
   ]
  },
  {
   "cell_type": "code",
   "execution_count": 57,
   "metadata": {},
   "outputs": [],
   "source": [
    "import numpy as np\n",
    "import matplotlib.pyplot as plt\n",
    "\n",
    "from sklearn.linear_model import LinearRegression, Ridge, Lasso, ElasticNet\n",
    "from sklearn.cluster import KMeans\n",
    "from sklearn.decomposition import PCA\n",
    "from scipy.stats import entropy\n",
    "\n",
    "import pandas as pd\n",
    "import word2vec\n",
    "\n",
    "import seaborn as sns"
   ]
  },
  {
   "cell_type": "markdown",
   "metadata": {},
   "source": [
    "## KL-Divergence"
   ]
  },
  {
   "cell_type": "code",
   "execution_count": 21,
   "metadata": {},
   "outputs": [
    {
     "name": "stdout",
     "output_type": "stream",
     "text": [
      "0.0\n",
      "0.22314355131420976\n",
      "0.09151622184943578\n",
      "0.020135513550688863\n",
      "0.020410997260127586\n"
     ]
    }
   ],
   "source": [
    "p = [0.5, 0.5]\n",
    "q = [0.2, 0.8]\n",
    "r = [0.4, 0.6]\n",
    "\n",
    "print(entropy(p,p))\n",
    "print(entropy(p,q))\n",
    "print(entropy(q,r))\n",
    "print(entropy(r,p))\n",
    "print(entropy(p,r))"
   ]
  },
  {
   "cell_type": "markdown",
   "metadata": {},
   "source": [
    "## Cosine similarity"
   ]
  },
  {
   "cell_type": "code",
   "execution_count": 22,
   "metadata": {},
   "outputs": [
    {
     "name": "stdout",
     "output_type": "stream",
     "text": [
      "Running command: word2phrase -train ./data/oliver_twist.txt -output ./data/oliver_twist_phrases -min-count 5 -threshold 100 -debug 2\n",
      "Starting training using file ./data/oliver_twist.txt\n",
      "Words processed: 100K     Vocab size: 77K  \n",
      "Vocab size (unigrams + bigrams): 60511\n",
      "Words in train file: 161090\n",
      "Running command: word2vec -train ./data/oliver_twist_phrases -output ./data/oliver_twist_model.bin -size 200 -window 5 -sample 1e-3 -hs 0 -negative 5 -threads 12 -iter 10 -min-count 5 -alpha 0.025 -debug 2 -binary 1 -cbow 1\n",
      "Starting training using file ./data/oliver_twist_phrases\n",
      "Vocab size: 3582\n",
      "Words in train file: 152774\n",
      "Alpha: 0.000389  Progress: 99.46%  Words/thread/sec: 194.36k  "
     ]
    }
   ],
   "source": [
    "word2vec.word2phrase('./data/oliver_twist.txt','./data/oliver_twist_phrases',verbose=True)\n",
    "word2vec.word2vec('./data/oliver_twist_phrases', './data/oliver_twist_model.bin', size=200, iter_=10, binary=True, verbose=True)\n",
    "model = word2vec.load('./data/oliver_twist_model.bin')"
   ]
  },
  {
   "cell_type": "code",
   "execution_count": 24,
   "metadata": {},
   "outputs": [
    {
     "data": {
      "text/plain": [
       "[('hand', 'foot', 0.936983032947431),\n",
       " ('hand', 'hill', 0.9084316724777061),\n",
       " ('hand', 'head', 0.970601999717943),\n",
       " ('foot', 'hill', 0.9915577389164667),\n",
       " ('foot', 'head', 0.9089183089581929),\n",
       " ('hill', 'head', 0.8709062300162604)]"
      ]
     },
     "execution_count": 24,
     "metadata": {},
     "output_type": "execute_result"
    }
   ],
   "source": [
    "model.distance('hand','foot','hill','head')"
   ]
  },
  {
   "cell_type": "code",
   "execution_count": 173,
   "metadata": {},
   "outputs": [],
   "source": [
    "?word2vec.word2vec"
   ]
  },
  {
   "cell_type": "markdown",
   "metadata": {},
   "source": [
    "\n",
    "## Regression"
   ]
  },
  {
   "cell_type": "markdown",
   "metadata": {},
   "source": [
    "Here we generate our demo synthetic data."
   ]
  },
  {
   "cell_type": "code",
   "execution_count": 31,
   "metadata": {},
   "outputs": [],
   "source": [
    "N = 100\n",
    "m = 12\n",
    "\n",
    "X = np.random.rand(N,m+1)\n",
    "X[:,m] = np.repeat(1,N)\n",
    "beta = np.random.rand(m+1,1)\n",
    "y = np.matmul(X,beta).reshape(N) + np.random.normal(0.0,0.1,N)\n",
    "\n",
    "# plt.scatter(X[:,0],y)"
   ]
  },
  {
   "cell_type": "markdown",
   "metadata": {},
   "source": [
    "This is the ordinary linear regression:"
   ]
  },
  {
   "cell_type": "code",
   "execution_count": 32,
   "metadata": {},
   "outputs": [
    {
     "data": {
      "text/plain": [
       "6.379694961897935"
      ]
     },
     "execution_count": 32,
     "metadata": {},
     "output_type": "execute_result"
    }
   ],
   "source": [
    "model1 = LinearRegression()\n",
    "model1.fit(X,y)\n",
    "\n",
    "np.linalg.norm(np.append(model1.coef_,[model1.intercept_])- beta)"
   ]
  },
  {
   "cell_type": "markdown",
   "metadata": {},
   "source": [
    "This is the ridge regression model."
   ]
  },
  {
   "cell_type": "code",
   "execution_count": 33,
   "metadata": {},
   "outputs": [
    {
     "data": {
      "text/plain": [
       "6.030622222558229"
      ]
     },
     "execution_count": 33,
     "metadata": {},
     "output_type": "execute_result"
    }
   ],
   "source": [
    "model2 = Ridge()\n",
    "model2.fit(X,y)\n",
    "\n",
    "np.linalg.norm(np.append(model2.coef_,[model2.intercept_])- beta)"
   ]
  },
  {
   "cell_type": "markdown",
   "metadata": {},
   "source": [
    "This is lasso regression model."
   ]
  },
  {
   "cell_type": "code",
   "execution_count": 34,
   "metadata": {},
   "outputs": [
    {
     "data": {
      "text/plain": [
       "13.786744497408556"
      ]
     },
     "execution_count": 34,
     "metadata": {},
     "output_type": "execute_result"
    }
   ],
   "source": [
    "model3 = Lasso()\n",
    "model3.fit(X,y)\n",
    "\n",
    "np.linalg.norm(np.append(model3.coef_,[model3.intercept_])- beta)"
   ]
  },
  {
   "cell_type": "markdown",
   "metadata": {},
   "source": [
    "And finally elastic net model."
   ]
  },
  {
   "cell_type": "code",
   "execution_count": 35,
   "metadata": {},
   "outputs": [
    {
     "data": {
      "text/plain": [
       "13.786744497408556"
      ]
     },
     "execution_count": 35,
     "metadata": {},
     "output_type": "execute_result"
    }
   ],
   "source": [
    "model4 = ElasticNet()\n",
    "model4.fit(X,y)\n",
    "\n",
    "np.linalg.norm(np.append(model4.coef_,[model4.intercept_])- beta)"
   ]
  },
  {
   "cell_type": "markdown",
   "metadata": {},
   "source": [
    "Now, let us develop a regression model on a real dataset. This dataset is culled from UCI. Here is the [link](https://archive.ics.uci.edu/ml/datasets/Residential+Building+Data+Set)"
   ]
  },
  {
   "cell_type": "code",
   "execution_count": 36,
   "metadata": {},
   "outputs": [
    {
     "data": {
      "text/html": [
       "<div>\n",
       "<style scoped>\n",
       "    .dataframe tbody tr th:only-of-type {\n",
       "        vertical-align: middle;\n",
       "    }\n",
       "\n",
       "    .dataframe tbody tr th {\n",
       "        vertical-align: top;\n",
       "    }\n",
       "\n",
       "    .dataframe thead th {\n",
       "        text-align: right;\n",
       "    }\n",
       "</style>\n",
       "<table border=\"1\" class=\"dataframe\">\n",
       "  <thead>\n",
       "    <tr style=\"text-align: right;\">\n",
       "      <th></th>\n",
       "      <th>START YEAR</th>\n",
       "      <th>START QUARTER</th>\n",
       "      <th>COMPLETION YEAR</th>\n",
       "      <th>COMPLETION QUARTER</th>\n",
       "      <th>V-1</th>\n",
       "      <th>V-2</th>\n",
       "      <th>V-3</th>\n",
       "      <th>V-4</th>\n",
       "      <th>V-5</th>\n",
       "      <th>V-6</th>\n",
       "      <th>...</th>\n",
       "      <th>V-22.4</th>\n",
       "      <th>V-23.4</th>\n",
       "      <th>V-24.4</th>\n",
       "      <th>V-25.4</th>\n",
       "      <th>V-26.4</th>\n",
       "      <th>V-27.4</th>\n",
       "      <th>V-28.4</th>\n",
       "      <th>V-29.4</th>\n",
       "      <th>V-9</th>\n",
       "      <th>V-10</th>\n",
       "    </tr>\n",
       "  </thead>\n",
       "  <tbody>\n",
       "    <tr>\n",
       "      <th>0</th>\n",
       "      <td>81</td>\n",
       "      <td>1</td>\n",
       "      <td>85</td>\n",
       "      <td>1</td>\n",
       "      <td>1</td>\n",
       "      <td>3150.0</td>\n",
       "      <td>920.0</td>\n",
       "      <td>598.5</td>\n",
       "      <td>190</td>\n",
       "      <td>1010.84</td>\n",
       "      <td>...</td>\n",
       "      <td>815.50</td>\n",
       "      <td>1755.00</td>\n",
       "      <td>8002.0</td>\n",
       "      <td>60.74</td>\n",
       "      <td>54.26</td>\n",
       "      <td>2978.26</td>\n",
       "      <td>41407.00</td>\n",
       "      <td>601988.1</td>\n",
       "      <td>2200</td>\n",
       "      <td>410</td>\n",
       "    </tr>\n",
       "    <tr>\n",
       "      <th>1</th>\n",
       "      <td>84</td>\n",
       "      <td>1</td>\n",
       "      <td>89</td>\n",
       "      <td>4</td>\n",
       "      <td>1</td>\n",
       "      <td>7600.0</td>\n",
       "      <td>1140.0</td>\n",
       "      <td>3040.0</td>\n",
       "      <td>400</td>\n",
       "      <td>963.81</td>\n",
       "      <td>...</td>\n",
       "      <td>1316.30</td>\n",
       "      <td>8364.78</td>\n",
       "      <td>8393.0</td>\n",
       "      <td>90.95</td>\n",
       "      <td>89.79</td>\n",
       "      <td>11379.37</td>\n",
       "      <td>44835.00</td>\n",
       "      <td>929027.1</td>\n",
       "      <td>5000</td>\n",
       "      <td>1000</td>\n",
       "    </tr>\n",
       "    <tr>\n",
       "      <th>2</th>\n",
       "      <td>78</td>\n",
       "      <td>1</td>\n",
       "      <td>81</td>\n",
       "      <td>4</td>\n",
       "      <td>1</td>\n",
       "      <td>4800.0</td>\n",
       "      <td>840.0</td>\n",
       "      <td>480.0</td>\n",
       "      <td>100</td>\n",
       "      <td>689.84</td>\n",
       "      <td>...</td>\n",
       "      <td>765.80</td>\n",
       "      <td>1755.00</td>\n",
       "      <td>4930.0</td>\n",
       "      <td>38.70</td>\n",
       "      <td>32.04</td>\n",
       "      <td>1653.06</td>\n",
       "      <td>37933.00</td>\n",
       "      <td>377828.6</td>\n",
       "      <td>1200</td>\n",
       "      <td>170</td>\n",
       "    </tr>\n",
       "    <tr>\n",
       "      <th>3</th>\n",
       "      <td>72</td>\n",
       "      <td>2</td>\n",
       "      <td>73</td>\n",
       "      <td>2</td>\n",
       "      <td>1</td>\n",
       "      <td>685.0</td>\n",
       "      <td>202.0</td>\n",
       "      <td>13.7</td>\n",
       "      <td>20</td>\n",
       "      <td>459.54</td>\n",
       "      <td>...</td>\n",
       "      <td>152.25</td>\n",
       "      <td>1442.31</td>\n",
       "      <td>1456.0</td>\n",
       "      <td>9.73</td>\n",
       "      <td>8.34</td>\n",
       "      <td>686.16</td>\n",
       "      <td>8194.00</td>\n",
       "      <td>122031.7</td>\n",
       "      <td>165</td>\n",
       "      <td>30</td>\n",
       "    </tr>\n",
       "    <tr>\n",
       "      <th>4</th>\n",
       "      <td>87</td>\n",
       "      <td>1</td>\n",
       "      <td>90</td>\n",
       "      <td>2</td>\n",
       "      <td>1</td>\n",
       "      <td>3000.0</td>\n",
       "      <td>800.0</td>\n",
       "      <td>1230.0</td>\n",
       "      <td>410</td>\n",
       "      <td>631.91</td>\n",
       "      <td>...</td>\n",
       "      <td>2244.10</td>\n",
       "      <td>9231.76</td>\n",
       "      <td>9286.0</td>\n",
       "      <td>136.60</td>\n",
       "      <td>140.20</td>\n",
       "      <td>9821.00</td>\n",
       "      <td>48260.00</td>\n",
       "      <td>1734973.5</td>\n",
       "      <td>5500</td>\n",
       "      <td>700</td>\n",
       "    </tr>\n",
       "    <tr>\n",
       "      <th>...</th>\n",
       "      <td>...</td>\n",
       "      <td>...</td>\n",
       "      <td>...</td>\n",
       "      <td>...</td>\n",
       "      <td>...</td>\n",
       "      <td>...</td>\n",
       "      <td>...</td>\n",
       "      <td>...</td>\n",
       "      <td>...</td>\n",
       "      <td>...</td>\n",
       "      <td>...</td>\n",
       "      <td>...</td>\n",
       "      <td>...</td>\n",
       "      <td>...</td>\n",
       "      <td>...</td>\n",
       "      <td>...</td>\n",
       "      <td>...</td>\n",
       "      <td>...</td>\n",
       "      <td>...</td>\n",
       "      <td>...</td>\n",
       "      <td>...</td>\n",
       "    </tr>\n",
       "    <tr>\n",
       "      <th>367</th>\n",
       "      <td>83</td>\n",
       "      <td>4</td>\n",
       "      <td>86</td>\n",
       "      <td>1</td>\n",
       "      <td>20</td>\n",
       "      <td>1350.0</td>\n",
       "      <td>350.0</td>\n",
       "      <td>108.0</td>\n",
       "      <td>80</td>\n",
       "      <td>251.37</td>\n",
       "      <td>...</td>\n",
       "      <td>1176.50</td>\n",
       "      <td>8343.60</td>\n",
       "      <td>8382.0</td>\n",
       "      <td>87.27</td>\n",
       "      <td>85.56</td>\n",
       "      <td>10555.47</td>\n",
       "      <td>33626.25</td>\n",
       "      <td>865878.9</td>\n",
       "      <td>1100</td>\n",
       "      <td>150</td>\n",
       "    </tr>\n",
       "    <tr>\n",
       "      <th>368</th>\n",
       "      <td>81</td>\n",
       "      <td>2</td>\n",
       "      <td>82</td>\n",
       "      <td>4</td>\n",
       "      <td>20</td>\n",
       "      <td>600.0</td>\n",
       "      <td>150.0</td>\n",
       "      <td>36.0</td>\n",
       "      <td>60</td>\n",
       "      <td>299.55</td>\n",
       "      <td>...</td>\n",
       "      <td>815.50</td>\n",
       "      <td>1755.00</td>\n",
       "      <td>8013.0</td>\n",
       "      <td>62.78</td>\n",
       "      <td>56.45</td>\n",
       "      <td>3387.72</td>\n",
       "      <td>10646.75</td>\n",
       "      <td>606524.2</td>\n",
       "      <td>740</td>\n",
       "      <td>80</td>\n",
       "    </tr>\n",
       "    <tr>\n",
       "      <th>369</th>\n",
       "      <td>84</td>\n",
       "      <td>4</td>\n",
       "      <td>86</td>\n",
       "      <td>3</td>\n",
       "      <td>20</td>\n",
       "      <td>1900.0</td>\n",
       "      <td>430.0</td>\n",
       "      <td>285.0</td>\n",
       "      <td>150</td>\n",
       "      <td>364.41</td>\n",
       "      <td>...</td>\n",
       "      <td>1584.30</td>\n",
       "      <td>8776.71</td>\n",
       "      <td>8799.0</td>\n",
       "      <td>101.00</td>\n",
       "      <td>101.89</td>\n",
       "      <td>13571.80</td>\n",
       "      <td>34474.50</td>\n",
       "      <td>1067772.0</td>\n",
       "      <td>860</td>\n",
       "      <td>220</td>\n",
       "    </tr>\n",
       "    <tr>\n",
       "      <th>370</th>\n",
       "      <td>82</td>\n",
       "      <td>3</td>\n",
       "      <td>84</td>\n",
       "      <td>4</td>\n",
       "      <td>20</td>\n",
       "      <td>510.0</td>\n",
       "      <td>160.0</td>\n",
       "      <td>30.6</td>\n",
       "      <td>60</td>\n",
       "      <td>245.28</td>\n",
       "      <td>...</td>\n",
       "      <td>909.20</td>\n",
       "      <td>7930.66</td>\n",
       "      <td>8004.0</td>\n",
       "      <td>73.57</td>\n",
       "      <td>69.26</td>\n",
       "      <td>4756.68</td>\n",
       "      <td>21855.00</td>\n",
       "      <td>669640.3</td>\n",
       "      <td>1100</td>\n",
       "      <td>110</td>\n",
       "    </tr>\n",
       "    <tr>\n",
       "      <th>371</th>\n",
       "      <td>80</td>\n",
       "      <td>1</td>\n",
       "      <td>81</td>\n",
       "      <td>3</td>\n",
       "      <td>20</td>\n",
       "      <td>890.0</td>\n",
       "      <td>230.0</td>\n",
       "      <td>35.6</td>\n",
       "      <td>40</td>\n",
       "      <td>237.03</td>\n",
       "      <td>...</td>\n",
       "      <td>764.50</td>\n",
       "      <td>1755.00</td>\n",
       "      <td>8420.0</td>\n",
       "      <td>54.62</td>\n",
       "      <td>44.79</td>\n",
       "      <td>2206.19</td>\n",
       "      <td>40234.00</td>\n",
       "      <td>629797.2</td>\n",
       "      <td>460</td>\n",
       "      <td>50</td>\n",
       "    </tr>\n",
       "  </tbody>\n",
       "</table>\n",
       "<p>372 rows × 109 columns</p>\n",
       "</div>"
      ],
      "text/plain": [
       "     START YEAR  START QUARTER  COMPLETION YEAR  COMPLETION QUARTER  V-1  \\\n",
       "0            81              1               85                   1    1   \n",
       "1            84              1               89                   4    1   \n",
       "2            78              1               81                   4    1   \n",
       "3            72              2               73                   2    1   \n",
       "4            87              1               90                   2    1   \n",
       "..          ...            ...              ...                 ...  ...   \n",
       "367          83              4               86                   1   20   \n",
       "368          81              2               82                   4   20   \n",
       "369          84              4               86                   3   20   \n",
       "370          82              3               84                   4   20   \n",
       "371          80              1               81                   3   20   \n",
       "\n",
       "        V-2     V-3     V-4  V-5      V-6  ...   V-22.4   V-23.4  V-24.4  \\\n",
       "0    3150.0   920.0   598.5  190  1010.84  ...   815.50  1755.00  8002.0   \n",
       "1    7600.0  1140.0  3040.0  400   963.81  ...  1316.30  8364.78  8393.0   \n",
       "2    4800.0   840.0   480.0  100   689.84  ...   765.80  1755.00  4930.0   \n",
       "3     685.0   202.0    13.7   20   459.54  ...   152.25  1442.31  1456.0   \n",
       "4    3000.0   800.0  1230.0  410   631.91  ...  2244.10  9231.76  9286.0   \n",
       "..      ...     ...     ...  ...      ...  ...      ...      ...     ...   \n",
       "367  1350.0   350.0   108.0   80   251.37  ...  1176.50  8343.60  8382.0   \n",
       "368   600.0   150.0    36.0   60   299.55  ...   815.50  1755.00  8013.0   \n",
       "369  1900.0   430.0   285.0  150   364.41  ...  1584.30  8776.71  8799.0   \n",
       "370   510.0   160.0    30.6   60   245.28  ...   909.20  7930.66  8004.0   \n",
       "371   890.0   230.0    35.6   40   237.03  ...   764.50  1755.00  8420.0   \n",
       "\n",
       "     V-25.4  V-26.4    V-27.4    V-28.4     V-29.4   V-9  V-10  \n",
       "0     60.74   54.26   2978.26  41407.00   601988.1  2200   410  \n",
       "1     90.95   89.79  11379.37  44835.00   929027.1  5000  1000  \n",
       "2     38.70   32.04   1653.06  37933.00   377828.6  1200   170  \n",
       "3      9.73    8.34    686.16   8194.00   122031.7   165    30  \n",
       "4    136.60  140.20   9821.00  48260.00  1734973.5  5500   700  \n",
       "..      ...     ...       ...       ...        ...   ...   ...  \n",
       "367   87.27   85.56  10555.47  33626.25   865878.9  1100   150  \n",
       "368   62.78   56.45   3387.72  10646.75   606524.2   740    80  \n",
       "369  101.00  101.89  13571.80  34474.50  1067772.0   860   220  \n",
       "370   73.57   69.26   4756.68  21855.00   669640.3  1100   110  \n",
       "371   54.62   44.79   2206.19  40234.00   629797.2   460    50  \n",
       "\n",
       "[372 rows x 109 columns]"
      ]
     },
     "execution_count": 36,
     "metadata": {},
     "output_type": "execute_result"
    }
   ],
   "source": [
    "data = pd.read_excel('./data/Residential-Building-Data-Set.xlsx', header=0)\n",
    "data"
   ]
  },
  {
   "cell_type": "markdown",
   "metadata": {},
   "source": [
    "Columns 6 to 107 are independent variables, and columns 108 and 109 are the dependent variables."
   ]
  },
  {
   "cell_type": "code",
   "execution_count": 37,
   "metadata": {},
   "outputs": [],
   "source": [
    "X = data.iloc[:,5:107]\n",
    "y = data.iloc[:,108]"
   ]
  },
  {
   "cell_type": "markdown",
   "metadata": {},
   "source": [
    "We will develop a linear regression and a ridge regression models below. `1.0 - model.score` gives us the value of the cost function on these models."
   ]
  },
  {
   "cell_type": "code",
   "execution_count": 38,
   "metadata": {},
   "outputs": [
    {
     "data": {
      "text/plain": [
       "0.017899630500839314"
      ]
     },
     "execution_count": 38,
     "metadata": {},
     "output_type": "execute_result"
    }
   ],
   "source": [
    "model = LinearRegression()\n",
    "model.fit(X,y)\n",
    "1.0 - model.score(X,y)"
   ]
  },
  {
   "cell_type": "code",
   "execution_count": 39,
   "metadata": {},
   "outputs": [
    {
     "data": {
      "text/plain": [
       "0.017900290230078886"
      ]
     },
     "execution_count": 39,
     "metadata": {},
     "output_type": "execute_result"
    }
   ],
   "source": [
    "model = Ridge()\n",
    "model.fit(X,y)\n",
    "1.0 - model.score(X,y)"
   ]
  },
  {
   "cell_type": "code",
   "execution_count": 41,
   "metadata": {},
   "outputs": [
    {
     "name": "stderr",
     "output_type": "stream",
     "text": [
      "/home/kaygun/.local/lib/python3.10/site-packages/sklearn/linear_model/_coordinate_descent.py:647: ConvergenceWarning: Objective did not converge. You might want to increase the number of iterations, check the scale of the features or consider increasing regularisation. Duality gap: 1.046e+05, tolerance: 9.812e+02\n",
      "  model = cd_fast.enet_coordinate_descent(\n"
     ]
    },
    {
     "data": {
      "text/plain": [
       "0.019559377464268835"
      ]
     },
     "execution_count": 41,
     "metadata": {},
     "output_type": "execute_result"
    }
   ],
   "source": [
    "model = Lasso()\n",
    "model.fit(X,y)\n",
    "1.0 - model.score(X,y)"
   ]
  },
  {
   "cell_type": "code",
   "execution_count": 40,
   "metadata": {},
   "outputs": [
    {
     "name": "stderr",
     "output_type": "stream",
     "text": [
      "/home/kaygun/.local/lib/python3.10/site-packages/sklearn/linear_model/_coordinate_descent.py:647: ConvergenceWarning: Objective did not converge. You might want to increase the number of iterations, check the scale of the features or consider increasing regularisation. Duality gap: 1.170e+05, tolerance: 9.812e+02\n",
      "  model = cd_fast.enet_coordinate_descent(\n"
     ]
    },
    {
     "data": {
      "text/plain": [
       "0.020002795785482363"
      ]
     },
     "execution_count": 40,
     "metadata": {},
     "output_type": "execute_result"
    }
   ],
   "source": [
    "model = ElasticNet()\n",
    "model.fit(X,y)\n",
    "1.0 - model.score(X,y)"
   ]
  },
  {
   "cell_type": "code",
   "execution_count": 45,
   "metadata": {},
   "outputs": [
    {
     "data": {
      "text/html": [
       "<div>\n",
       "<style scoped>\n",
       "    .dataframe tbody tr th:only-of-type {\n",
       "        vertical-align: middle;\n",
       "    }\n",
       "\n",
       "    .dataframe tbody tr th {\n",
       "        vertical-align: top;\n",
       "    }\n",
       "\n",
       "    .dataframe thead th {\n",
       "        text-align: right;\n",
       "    }\n",
       "</style>\n",
       "<table border=\"1\" class=\"dataframe\">\n",
       "  <thead>\n",
       "    <tr style=\"text-align: right;\">\n",
       "      <th></th>\n",
       "      <th>Cement (component 1)(kg in a m^3 mixture)</th>\n",
       "      <th>Blast Furnace Slag (component 2)(kg in a m^3 mixture)</th>\n",
       "      <th>Fly Ash (component 3)(kg in a m^3 mixture)</th>\n",
       "      <th>Water  (component 4)(kg in a m^3 mixture)</th>\n",
       "      <th>Superplasticizer (component 5)(kg in a m^3 mixture)</th>\n",
       "      <th>Coarse Aggregate  (component 6)(kg in a m^3 mixture)</th>\n",
       "      <th>Fine Aggregate (component 7)(kg in a m^3 mixture)</th>\n",
       "      <th>Age (day)</th>\n",
       "      <th>Concrete compressive strength(MPa, megapascals)</th>\n",
       "    </tr>\n",
       "  </thead>\n",
       "  <tbody>\n",
       "    <tr>\n",
       "      <th>0</th>\n",
       "      <td>540.0</td>\n",
       "      <td>0.0</td>\n",
       "      <td>0.0</td>\n",
       "      <td>162.0</td>\n",
       "      <td>2.5</td>\n",
       "      <td>1040.0</td>\n",
       "      <td>676.0</td>\n",
       "      <td>28</td>\n",
       "      <td>79.986111</td>\n",
       "    </tr>\n",
       "    <tr>\n",
       "      <th>1</th>\n",
       "      <td>540.0</td>\n",
       "      <td>0.0</td>\n",
       "      <td>0.0</td>\n",
       "      <td>162.0</td>\n",
       "      <td>2.5</td>\n",
       "      <td>1055.0</td>\n",
       "      <td>676.0</td>\n",
       "      <td>28</td>\n",
       "      <td>61.887366</td>\n",
       "    </tr>\n",
       "    <tr>\n",
       "      <th>2</th>\n",
       "      <td>332.5</td>\n",
       "      <td>142.5</td>\n",
       "      <td>0.0</td>\n",
       "      <td>228.0</td>\n",
       "      <td>0.0</td>\n",
       "      <td>932.0</td>\n",
       "      <td>594.0</td>\n",
       "      <td>270</td>\n",
       "      <td>40.269535</td>\n",
       "    </tr>\n",
       "    <tr>\n",
       "      <th>3</th>\n",
       "      <td>332.5</td>\n",
       "      <td>142.5</td>\n",
       "      <td>0.0</td>\n",
       "      <td>228.0</td>\n",
       "      <td>0.0</td>\n",
       "      <td>932.0</td>\n",
       "      <td>594.0</td>\n",
       "      <td>365</td>\n",
       "      <td>41.052780</td>\n",
       "    </tr>\n",
       "    <tr>\n",
       "      <th>4</th>\n",
       "      <td>198.6</td>\n",
       "      <td>132.4</td>\n",
       "      <td>0.0</td>\n",
       "      <td>192.0</td>\n",
       "      <td>0.0</td>\n",
       "      <td>978.4</td>\n",
       "      <td>825.5</td>\n",
       "      <td>360</td>\n",
       "      <td>44.296075</td>\n",
       "    </tr>\n",
       "    <tr>\n",
       "      <th>...</th>\n",
       "      <td>...</td>\n",
       "      <td>...</td>\n",
       "      <td>...</td>\n",
       "      <td>...</td>\n",
       "      <td>...</td>\n",
       "      <td>...</td>\n",
       "      <td>...</td>\n",
       "      <td>...</td>\n",
       "      <td>...</td>\n",
       "    </tr>\n",
       "    <tr>\n",
       "      <th>1025</th>\n",
       "      <td>276.4</td>\n",
       "      <td>116.0</td>\n",
       "      <td>90.3</td>\n",
       "      <td>179.6</td>\n",
       "      <td>8.9</td>\n",
       "      <td>870.1</td>\n",
       "      <td>768.3</td>\n",
       "      <td>28</td>\n",
       "      <td>44.284354</td>\n",
       "    </tr>\n",
       "    <tr>\n",
       "      <th>1026</th>\n",
       "      <td>322.2</td>\n",
       "      <td>0.0</td>\n",
       "      <td>115.6</td>\n",
       "      <td>196.0</td>\n",
       "      <td>10.4</td>\n",
       "      <td>817.9</td>\n",
       "      <td>813.4</td>\n",
       "      <td>28</td>\n",
       "      <td>31.178794</td>\n",
       "    </tr>\n",
       "    <tr>\n",
       "      <th>1027</th>\n",
       "      <td>148.5</td>\n",
       "      <td>139.4</td>\n",
       "      <td>108.6</td>\n",
       "      <td>192.7</td>\n",
       "      <td>6.1</td>\n",
       "      <td>892.4</td>\n",
       "      <td>780.0</td>\n",
       "      <td>28</td>\n",
       "      <td>23.696601</td>\n",
       "    </tr>\n",
       "    <tr>\n",
       "      <th>1028</th>\n",
       "      <td>159.1</td>\n",
       "      <td>186.7</td>\n",
       "      <td>0.0</td>\n",
       "      <td>175.6</td>\n",
       "      <td>11.3</td>\n",
       "      <td>989.6</td>\n",
       "      <td>788.9</td>\n",
       "      <td>28</td>\n",
       "      <td>32.768036</td>\n",
       "    </tr>\n",
       "    <tr>\n",
       "      <th>1029</th>\n",
       "      <td>260.9</td>\n",
       "      <td>100.5</td>\n",
       "      <td>78.3</td>\n",
       "      <td>200.6</td>\n",
       "      <td>8.6</td>\n",
       "      <td>864.5</td>\n",
       "      <td>761.5</td>\n",
       "      <td>28</td>\n",
       "      <td>32.401235</td>\n",
       "    </tr>\n",
       "  </tbody>\n",
       "</table>\n",
       "<p>1030 rows × 9 columns</p>\n",
       "</div>"
      ],
      "text/plain": [
       "      Cement (component 1)(kg in a m^3 mixture)  \\\n",
       "0                                         540.0   \n",
       "1                                         540.0   \n",
       "2                                         332.5   \n",
       "3                                         332.5   \n",
       "4                                         198.6   \n",
       "...                                         ...   \n",
       "1025                                      276.4   \n",
       "1026                                      322.2   \n",
       "1027                                      148.5   \n",
       "1028                                      159.1   \n",
       "1029                                      260.9   \n",
       "\n",
       "      Blast Furnace Slag (component 2)(kg in a m^3 mixture)  \\\n",
       "0                                                   0.0       \n",
       "1                                                   0.0       \n",
       "2                                                 142.5       \n",
       "3                                                 142.5       \n",
       "4                                                 132.4       \n",
       "...                                                 ...       \n",
       "1025                                              116.0       \n",
       "1026                                                0.0       \n",
       "1027                                              139.4       \n",
       "1028                                              186.7       \n",
       "1029                                              100.5       \n",
       "\n",
       "      Fly Ash (component 3)(kg in a m^3 mixture)  \\\n",
       "0                                            0.0   \n",
       "1                                            0.0   \n",
       "2                                            0.0   \n",
       "3                                            0.0   \n",
       "4                                            0.0   \n",
       "...                                          ...   \n",
       "1025                                        90.3   \n",
       "1026                                       115.6   \n",
       "1027                                       108.6   \n",
       "1028                                         0.0   \n",
       "1029                                        78.3   \n",
       "\n",
       "      Water  (component 4)(kg in a m^3 mixture)  \\\n",
       "0                                         162.0   \n",
       "1                                         162.0   \n",
       "2                                         228.0   \n",
       "3                                         228.0   \n",
       "4                                         192.0   \n",
       "...                                         ...   \n",
       "1025                                      179.6   \n",
       "1026                                      196.0   \n",
       "1027                                      192.7   \n",
       "1028                                      175.6   \n",
       "1029                                      200.6   \n",
       "\n",
       "      Superplasticizer (component 5)(kg in a m^3 mixture)  \\\n",
       "0                                                   2.5     \n",
       "1                                                   2.5     \n",
       "2                                                   0.0     \n",
       "3                                                   0.0     \n",
       "4                                                   0.0     \n",
       "...                                                 ...     \n",
       "1025                                                8.9     \n",
       "1026                                               10.4     \n",
       "1027                                                6.1     \n",
       "1028                                               11.3     \n",
       "1029                                                8.6     \n",
       "\n",
       "      Coarse Aggregate  (component 6)(kg in a m^3 mixture)  \\\n",
       "0                                                1040.0      \n",
       "1                                                1055.0      \n",
       "2                                                 932.0      \n",
       "3                                                 932.0      \n",
       "4                                                 978.4      \n",
       "...                                                 ...      \n",
       "1025                                              870.1      \n",
       "1026                                              817.9      \n",
       "1027                                              892.4      \n",
       "1028                                              989.6      \n",
       "1029                                              864.5      \n",
       "\n",
       "      Fine Aggregate (component 7)(kg in a m^3 mixture)  Age (day)  \\\n",
       "0                                                 676.0         28   \n",
       "1                                                 676.0         28   \n",
       "2                                                 594.0        270   \n",
       "3                                                 594.0        365   \n",
       "4                                                 825.5        360   \n",
       "...                                                 ...        ...   \n",
       "1025                                              768.3         28   \n",
       "1026                                              813.4         28   \n",
       "1027                                              780.0         28   \n",
       "1028                                              788.9         28   \n",
       "1029                                              761.5         28   \n",
       "\n",
       "      Concrete compressive strength(MPa, megapascals)   \n",
       "0                                            79.986111  \n",
       "1                                            61.887366  \n",
       "2                                            40.269535  \n",
       "3                                            41.052780  \n",
       "4                                            44.296075  \n",
       "...                                                ...  \n",
       "1025                                         44.284354  \n",
       "1026                                         31.178794  \n",
       "1027                                         23.696601  \n",
       "1028                                         32.768036  \n",
       "1029                                         32.401235  \n",
       "\n",
       "[1030 rows x 9 columns]"
      ]
     },
     "execution_count": 45,
     "metadata": {},
     "output_type": "execute_result"
    }
   ],
   "source": [
    "data = pd.read_excel('https://archive.ics.uci.edu/ml/machine-learning-databases/concrete/compressive/Concrete_Data.xls')\n",
    "data"
   ]
  },
  {
   "cell_type": "code",
   "execution_count": 71,
   "metadata": {},
   "outputs": [
    {
     "data": {
      "text/plain": [
       "0.6153801793305094"
      ]
     },
     "execution_count": 71,
     "metadata": {},
     "output_type": "execute_result"
    }
   ],
   "source": [
    "X = data.iloc[:,0:8]\n",
    "y = data.iloc[:,8]\n",
    "\n",
    "model = ElasticNet()\n",
    "model.fit(X,y)\n",
    "\n",
    "model.score(X,y)"
   ]
  },
  {
   "cell_type": "code",
   "execution_count": 59,
   "metadata": {},
   "outputs": [
    {
     "data": {
      "text/plain": [
       "<AxesSubplot:>"
      ]
     },
     "execution_count": 59,
     "metadata": {},
     "output_type": "execute_result"
    },
    {
     "data": {
      "image/png": "[encoded data removed]",
      "text/plain": [
       "<Figure size 432x288 with 2 Axes>"
      ]
     },
     "metadata": {
      "needs_background": "light"
     },
     "output_type": "display_data"
    }
   ],
   "source": [
    "cor = np.corrcoef(X.transpose())\n",
    "sns.heatmap(cor)"
   ]
  },
  {
   "cell_type": "code",
   "execution_count": 68,
   "metadata": {},
   "outputs": [
    {
     "data": {
      "text/plain": [
       "0.3313879831972055"
      ]
     },
     "execution_count": 68,
     "metadata": {},
     "output_type": "execute_result"
    }
   ],
   "source": [
    "Xnew = X.iloc[:,[0,7]]\n",
    "modelNew = Lasso()\n",
    "modelNew.fit(Xnew,y)\n",
    "modelNew.score(Xnew,y)"
   ]
  },
  {
   "cell_type": "markdown",
   "metadata": {},
   "source": [
    "## k-means\n",
    "\n",
    "For this part of the notes we are using [this](https://archive.ics.uci.edu/ml/datasets/Travel+Reviews) dataset."
   ]
  },
  {
   "cell_type": "code",
   "execution_count": 72,
   "metadata": {},
   "outputs": [
    {
     "data": {
      "text/html": [
       "<div>\n",
       "<style scoped>\n",
       "    .dataframe tbody tr th:only-of-type {\n",
       "        vertical-align: middle;\n",
       "    }\n",
       "\n",
       "    .dataframe tbody tr th {\n",
       "        vertical-align: top;\n",
       "    }\n",
       "\n",
       "    .dataframe thead th {\n",
       "        text-align: right;\n",
       "    }\n",
       "</style>\n",
       "<table border=\"1\" class=\"dataframe\">\n",
       "  <thead>\n",
       "    <tr style=\"text-align: right;\">\n",
       "      <th></th>\n",
       "      <th>Category 1</th>\n",
       "      <th>Category 2</th>\n",
       "      <th>Category 3</th>\n",
       "      <th>Category 4</th>\n",
       "      <th>Category 5</th>\n",
       "      <th>Category 6</th>\n",
       "      <th>Category 7</th>\n",
       "      <th>Category 8</th>\n",
       "      <th>Category 9</th>\n",
       "    </tr>\n",
       "  </thead>\n",
       "  <tbody>\n",
       "    <tr>\n",
       "      <th>0</th>\n",
       "      <td>0.93</td>\n",
       "      <td>1.80</td>\n",
       "      <td>2.29</td>\n",
       "      <td>0.62</td>\n",
       "      <td>0.80</td>\n",
       "      <td>2.42</td>\n",
       "      <td>3.19</td>\n",
       "      <td>2.79</td>\n",
       "      <td>1.82</td>\n",
       "    </tr>\n",
       "    <tr>\n",
       "      <th>1</th>\n",
       "      <td>1.02</td>\n",
       "      <td>2.20</td>\n",
       "      <td>2.66</td>\n",
       "      <td>0.64</td>\n",
       "      <td>1.42</td>\n",
       "      <td>3.18</td>\n",
       "      <td>3.21</td>\n",
       "      <td>2.63</td>\n",
       "      <td>1.86</td>\n",
       "    </tr>\n",
       "    <tr>\n",
       "      <th>2</th>\n",
       "      <td>1.22</td>\n",
       "      <td>0.80</td>\n",
       "      <td>0.54</td>\n",
       "      <td>0.53</td>\n",
       "      <td>0.24</td>\n",
       "      <td>1.54</td>\n",
       "      <td>3.18</td>\n",
       "      <td>2.80</td>\n",
       "      <td>1.31</td>\n",
       "    </tr>\n",
       "    <tr>\n",
       "      <th>3</th>\n",
       "      <td>0.45</td>\n",
       "      <td>1.80</td>\n",
       "      <td>0.29</td>\n",
       "      <td>0.57</td>\n",
       "      <td>0.46</td>\n",
       "      <td>1.52</td>\n",
       "      <td>3.18</td>\n",
       "      <td>2.96</td>\n",
       "      <td>1.57</td>\n",
       "    </tr>\n",
       "    <tr>\n",
       "      <th>4</th>\n",
       "      <td>0.51</td>\n",
       "      <td>1.20</td>\n",
       "      <td>1.18</td>\n",
       "      <td>0.57</td>\n",
       "      <td>1.54</td>\n",
       "      <td>2.02</td>\n",
       "      <td>3.18</td>\n",
       "      <td>2.78</td>\n",
       "      <td>1.18</td>\n",
       "    </tr>\n",
       "    <tr>\n",
       "      <th>...</th>\n",
       "      <td>...</td>\n",
       "      <td>...</td>\n",
       "      <td>...</td>\n",
       "      <td>...</td>\n",
       "      <td>...</td>\n",
       "      <td>...</td>\n",
       "      <td>...</td>\n",
       "      <td>...</td>\n",
       "      <td>...</td>\n",
       "    </tr>\n",
       "    <tr>\n",
       "      <th>975</th>\n",
       "      <td>0.74</td>\n",
       "      <td>1.12</td>\n",
       "      <td>0.30</td>\n",
       "      <td>0.53</td>\n",
       "      <td>0.88</td>\n",
       "      <td>1.38</td>\n",
       "      <td>3.17</td>\n",
       "      <td>2.78</td>\n",
       "      <td>0.99</td>\n",
       "    </tr>\n",
       "    <tr>\n",
       "      <th>976</th>\n",
       "      <td>1.25</td>\n",
       "      <td>0.92</td>\n",
       "      <td>1.12</td>\n",
       "      <td>0.38</td>\n",
       "      <td>0.78</td>\n",
       "      <td>1.68</td>\n",
       "      <td>3.18</td>\n",
       "      <td>2.79</td>\n",
       "      <td>1.34</td>\n",
       "    </tr>\n",
       "    <tr>\n",
       "      <th>977</th>\n",
       "      <td>0.61</td>\n",
       "      <td>1.32</td>\n",
       "      <td>0.67</td>\n",
       "      <td>0.43</td>\n",
       "      <td>1.30</td>\n",
       "      <td>1.78</td>\n",
       "      <td>3.17</td>\n",
       "      <td>2.81</td>\n",
       "      <td>1.34</td>\n",
       "    </tr>\n",
       "    <tr>\n",
       "      <th>978</th>\n",
       "      <td>0.93</td>\n",
       "      <td>0.20</td>\n",
       "      <td>0.13</td>\n",
       "      <td>0.43</td>\n",
       "      <td>0.30</td>\n",
       "      <td>0.40</td>\n",
       "      <td>3.18</td>\n",
       "      <td>2.98</td>\n",
       "      <td>1.12</td>\n",
       "    </tr>\n",
       "    <tr>\n",
       "      <th>979</th>\n",
       "      <td>0.93</td>\n",
       "      <td>0.56</td>\n",
       "      <td>1.13</td>\n",
       "      <td>0.51</td>\n",
       "      <td>1.34</td>\n",
       "      <td>2.36</td>\n",
       "      <td>3.18</td>\n",
       "      <td>2.87</td>\n",
       "      <td>1.34</td>\n",
       "    </tr>\n",
       "  </tbody>\n",
       "</table>\n",
       "<p>980 rows × 9 columns</p>\n",
       "</div>"
      ],
      "text/plain": [
       "     Category 1  Category 2  Category 3  Category 4  Category 5  Category 6  \\\n",
       "0          0.93        1.80        2.29        0.62        0.80        2.42   \n",
       "1          1.02        2.20        2.66        0.64        1.42        3.18   \n",
       "2          1.22        0.80        0.54        0.53        0.24        1.54   \n",
       "3          0.45        1.80        0.29        0.57        0.46        1.52   \n",
       "4          0.51        1.20        1.18        0.57        1.54        2.02   \n",
       "..          ...         ...         ...         ...         ...         ...   \n",
       "975        0.74        1.12        0.30        0.53        0.88        1.38   \n",
       "976        1.25        0.92        1.12        0.38        0.78        1.68   \n",
       "977        0.61        1.32        0.67        0.43        1.30        1.78   \n",
       "978        0.93        0.20        0.13        0.43        0.30        0.40   \n",
       "979        0.93        0.56        1.13        0.51        1.34        2.36   \n",
       "\n",
       "     Category 7  Category 8  Category 9  \n",
       "0          3.19        2.79        1.82  \n",
       "1          3.21        2.63        1.86  \n",
       "2          3.18        2.80        1.31  \n",
       "3          3.18        2.96        1.57  \n",
       "4          3.18        2.78        1.18  \n",
       "..          ...         ...         ...  \n",
       "975        3.17        2.78        0.99  \n",
       "976        3.18        2.79        1.34  \n",
       "977        3.17        2.81        1.34  \n",
       "978        3.18        2.98        1.12  \n",
       "979        3.18        2.87        1.34  \n",
       "\n",
       "[980 rows x 9 columns]"
      ]
     },
     "execution_count": 72,
     "metadata": {},
     "output_type": "execute_result"
    }
   ],
   "source": [
    "data = pd.read_csv('https://archive.ics.uci.edu/ml/machine-learning-databases/00484/tripadvisor_review.csv')\n",
    "X = data.iloc[:,1:10]\n",
    "X"
   ]
  },
  {
   "cell_type": "code",
   "execution_count": 93,
   "metadata": {},
   "outputs": [
    {
     "data": {
      "text/plain": [
       "<matplotlib.collections.PathCollection at 0x7f9a502bdff0>"
      ]
     },
     "execution_count": 93,
     "metadata": {},
     "output_type": "execute_result"
    },
    {
     "data": {
      "image/png": "[encoded data removed]",
      "text/plain": [
       "<Figure size 432x288 with 1 Axes>"
      ]
     },
     "metadata": {
      "needs_background": "light"
     },
     "output_type": "display_data"
    }
   ],
   "source": [
    "plt.scatter(X.iloc[:,1],X.iloc[:,5])"
   ]
  },
  {
   "cell_type": "code",
   "execution_count": 84,
   "metadata": {},
   "outputs": [
    {
     "data": {
      "text/plain": [
       "<matplotlib.collections.PathCollection at 0x7f9a50cfd270>"
      ]
     },
     "execution_count": 84,
     "metadata": {},
     "output_type": "execute_result"
    },
    {
     "data": {
      "image/png": "[encoded data removed]",
      "text/plain": [
       "<Figure size 432x288 with 1 Axes>"
      ]
     },
     "metadata": {
      "needs_background": "light"
     },
     "output_type": "display_data"
    }
   ],
   "source": [
    "model = PCA(n_components=2)\n",
    "Xn = model.fit_transform(X)\n",
    "plt.scatter(Xn[:,0],Xn[:,1])"
   ]
  },
  {
   "cell_type": "code",
   "execution_count": 91,
   "metadata": {},
   "outputs": [],
   "source": [
    "model = KMeans(n_clusters=2)\n",
    "model.fit(X)\n",
    "classes = model.predict(X)\n",
    "project = PCA(n_components=2)\n",
    "Z = project.fit_transform(X)"
   ]
  },
  {
   "cell_type": "code",
   "execution_count": 92,
   "metadata": {},
   "outputs": [
    {
     "data": {
      "text/plain": [
       "<matplotlib.collections.PathCollection at 0x7f9a5045de70>"
      ]
     },
     "execution_count": 92,
     "metadata": {},
     "output_type": "execute_result"
    },
    {
     "data": {
      "image/png": "[encoded data removed]",
      "text/plain": [
       "<Figure size 864x576 with 1 Axes>"
      ]
     },
     "metadata": {
      "needs_background": "light"
     },
     "output_type": "display_data"
    }
   ],
   "source": [
    "plt.figure(figsize=(12,8))\n",
    "plt.scatter(Z[:,0],Z[:,1],c=classes,s=8.0)"
   ]
  },
  {
   "cell_type": "code",
   "execution_count": null,
   "metadata": {},
   "outputs": [],
   "source": []
  }
 ],
 "metadata": {
  "kernelspec": {
   "display_name": "Python 3 (ipykernel)",
   "language": "python",
   "name": "python3"
  },
  "language_info": {
   "codemirror_mode": {
    "name": "ipython",
    "version": 3
   },
   "file_extension": ".py",
   "mimetype": "text/x-python",
   "name": "python",
   "nbconvert_exporter": "python",
   "pygments_lexer": "ipython3",
   "version": "3.10.2"
  }
 },
 "nbformat": 4,
 "nbformat_minor": 4
}
