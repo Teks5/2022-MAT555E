{
 "cells": [
  {
   "cell_type": "code",
   "execution_count": 273,
   "id": "7a62d512",
   "metadata": {},
   "outputs": [],
   "source": [
    "import numpy as np\n",
    "import pandas as pd\n",
    "\n",
    "from urllib.request import urlopen\n",
    "from xmltodict import parse\n",
    "from zipfile import ZipFile\n",
    "from io import BytesIO\n",
    "\n",
    "import matplotlib.pyplot as plt\n",
    "import seaborn as sns\n",
    "\n",
    "from sklearn.linear_model import LinearRegression\n",
    "from scipy import stats\n",
    "\n",
    "import scipy.spatial.distance as ssd\n",
    "from scipy.cluster.hierarchy import linkage, dendrogram"
   ]
  },
  {
   "cell_type": "markdown",
   "id": "15a596e9",
   "metadata": {},
   "source": [
    "# Univariate Linear Regression\n",
    "\n",
    "Consider the following dataset:"
   ]
  },
  {
   "cell_type": "code",
   "execution_count": 294,
   "id": "9f9c597b",
   "metadata": {},
   "outputs": [],
   "source": [
    "def WBQuery(series,name):\n",
    "    base = 'https://api.worldbank.org/v2/en/indicator/'\n",
    "    with urlopen(f'{base}/{series}?downloadformat=xml') as url:\n",
    "        zf = ZipFile(BytesIO(url.read()))\n",
    "    f = zf.filelist[0]\n",
    "    raw = parse(zf.open(f).read().decode('utf8'))\n",
    "    res = []\n",
    "    for item in raw['Root']['data']['record']:\n",
    "        x = item['field']\n",
    "        try:\n",
    "            res.append({'country': x[0]['#text'],\n",
    "                        'year': x[2]['#text'],\n",
    "                        name: float(x[3]['#text'])})\n",
    "        except:\n",
    "            None\n",
    "    return pd.DataFrame(res)"
   ]
  },
  {
   "cell_type": "code",
   "execution_count": 295,
   "id": "522e5c0c",
   "metadata": {},
   "outputs": [
    {
     "data": {
      "text/html": [
       "<div>\n",
       "<style scoped>\n",
       "    .dataframe tbody tr th:only-of-type {\n",
       "        vertical-align: middle;\n",
       "    }\n",
       "\n",
       "    .dataframe tbody tr th {\n",
       "        vertical-align: top;\n",
       "    }\n",
       "\n",
       "    .dataframe thead th {\n",
       "        text-align: right;\n",
       "    }\n",
       "</style>\n",
       "<table border=\"1\" class=\"dataframe\">\n",
       "  <thead>\n",
       "    <tr style=\"text-align: right;\">\n",
       "      <th></th>\n",
       "      <th>urban_pop</th>\n",
       "    </tr>\n",
       "    <tr>\n",
       "      <th>year</th>\n",
       "      <th></th>\n",
       "    </tr>\n",
       "  </thead>\n",
       "  <tbody>\n",
       "    <tr>\n",
       "      <th>1960</th>\n",
       "      <td>36.243845</td>\n",
       "    </tr>\n",
       "    <tr>\n",
       "      <th>1961</th>\n",
       "      <td>36.763893</td>\n",
       "    </tr>\n",
       "    <tr>\n",
       "      <th>1962</th>\n",
       "      <td>37.294984</td>\n",
       "    </tr>\n",
       "    <tr>\n",
       "      <th>1963</th>\n",
       "      <td>37.833980</td>\n",
       "    </tr>\n",
       "    <tr>\n",
       "      <th>1964</th>\n",
       "      <td>38.383669</td>\n",
       "    </tr>\n",
       "    <tr>\n",
       "      <th>...</th>\n",
       "      <td>...</td>\n",
       "    </tr>\n",
       "    <tr>\n",
       "      <th>2016</th>\n",
       "      <td>59.268115</td>\n",
       "    </tr>\n",
       "    <tr>\n",
       "      <th>2017</th>\n",
       "      <td>59.586065</td>\n",
       "    </tr>\n",
       "    <tr>\n",
       "      <th>2018</th>\n",
       "      <td>59.907127</td>\n",
       "    </tr>\n",
       "    <tr>\n",
       "      <th>2019</th>\n",
       "      <td>60.231397</td>\n",
       "    </tr>\n",
       "    <tr>\n",
       "      <th>2020</th>\n",
       "      <td>60.558593</td>\n",
       "    </tr>\n",
       "  </tbody>\n",
       "</table>\n",
       "<p>61 rows × 1 columns</p>\n",
       "</div>"
      ],
      "text/plain": [
       "      urban_pop\n",
       "year           \n",
       "1960  36.243845\n",
       "1961  36.763893\n",
       "1962  37.294984\n",
       "1963  37.833980\n",
       "1964  38.383669\n",
       "...         ...\n",
       "2016  59.268115\n",
       "2017  59.586065\n",
       "2018  59.907127\n",
       "2019  60.231397\n",
       "2020  60.558593\n",
       "\n",
       "[61 rows x 1 columns]"
      ]
     },
     "execution_count": 295,
     "metadata": {},
     "output_type": "execute_result"
    }
   ],
   "source": [
    "worldUrbanPop = WBQuery('SP.URB.TOTL.IN.ZS','urban_pop')\n",
    "globalUrbanPop = worldUrbanPop.groupby('year').mean()\n",
    "globalUrbanPop"
   ]
  },
  {
   "cell_type": "code",
   "execution_count": 300,
   "id": "9c1dbf93",
   "metadata": {},
   "outputs": [
    {
     "data": {
      "text/plain": [
       "<AxesSubplot:xlabel='year'>"
      ]
     },
     "execution_count": 300,
     "metadata": {},
     "output_type": "execute_result"
    },
    {
     "data": {
      "image/png": "[encoded data removed]",
      "text/plain": [
       "<Figure size 864x432 with 1 Axes>"
      ]
     },
     "metadata": {
      "needs_background": "light"
     },
     "output_type": "display_data"
    }
   ],
   "source": [
    "turUrbPop = worldUrbanPop[worldUrbanPop['country']=='Turkey'].groupby('year').mean()\n",
    "turUrbPop.plot()"
   ]
  },
  {
   "cell_type": "code",
   "execution_count": 5,
   "id": "51db16fc",
   "metadata": {},
   "outputs": [
    {
     "data": {
      "text/plain": [
       "<AxesSubplot:xlabel='year'>"
      ]
     },
     "execution_count": 5,
     "metadata": {},
     "output_type": "execute_result"
    },
    {
     "data": {
      "image/png": "[encoded data removed]",
      "text/plain": [
       "<Figure size 864x432 with 1 Axes>"
      ]
     },
     "metadata": {
      "needs_background": "light"
     },
     "output_type": "display_data"
    }
   ],
   "source": [
    "plt.rcParams['figure.figsize'] = 12,6\n",
    "globalUrbanPop.plot()"
   ]
  },
  {
   "cell_type": "markdown",
   "id": "db83651d",
   "metadata": {},
   "source": [
    "It seems like one can fit a line to this data:"
   ]
  },
  {
   "cell_type": "code",
   "execution_count": 153,
   "id": "918f0e74",
   "metadata": {},
   "outputs": [
    {
     "data": {
      "text/plain": [
       "<AxesSubplot:ylabel='urban_pop'>"
      ]
     },
     "execution_count": 153,
     "metadata": {},
     "output_type": "execute_result"
    },
    {
     "data": {
      "image/png": "[encoded data removed]",
      "text/plain": [
       "<Figure size 864x432 with 1 Axes>"
      ]
     },
     "metadata": {
      "needs_background": "light"
     },
     "output_type": "display_data"
    }
   ],
   "source": [
    "xs = np.array(globalUrbanPop.index.astype('float')).reshape((61,1))\n",
    "ys = globalUrbanPop['urban_pop']\n",
    "\n",
    "sns.regplot(x=xs,y=ys)"
   ]
  },
  {
   "cell_type": "markdown",
   "id": "7ed90c88",
   "metadata": {},
   "source": [
    "Here is how we construct the model and make predictions:"
   ]
  },
  {
   "cell_type": "code",
   "execution_count": 52,
   "id": "4cda8261",
   "metadata": {},
   "outputs": [
    {
     "data": {
      "text/plain": [
       "array([38.06071356, 38.45510278, 38.84949199, 39.24388121, 39.63827042,\n",
       "       40.03265964, 40.42704886, 40.82143807, 41.21582729, 41.6102165 ,\n",
       "       42.00460572, 42.39899493, 42.79338415, 43.18777337, 43.58216258,\n",
       "       43.9765518 , 44.37094101, 44.76533023, 45.15971945, 45.55410866,\n",
       "       45.94849788, 46.34288709, 46.73727631, 47.13166552, 47.52605474,\n",
       "       47.92044396, 48.31483317, 48.70922239, 49.1036116 , 49.49800082,\n",
       "       49.89239004, 50.28677925, 50.68116847, 51.07555768, 51.4699469 ,\n",
       "       51.86433611, 52.25872533, 52.65311455, 53.04750376, 53.44189298,\n",
       "       53.83628219, 54.23067141, 54.62506063, 55.01944984, 55.41383906,\n",
       "       55.80822827, 56.20261749, 56.5970067 , 56.99139592, 57.38578514,\n",
       "       57.78017435, 58.17456357, 58.56895278, 58.963342  , 59.35773121,\n",
       "       59.75212043, 60.14650965, 60.54089886, 60.93528808, 61.32967729,\n",
       "       61.72406651])"
      ]
     },
     "execution_count": 52,
     "metadata": {},
     "output_type": "execute_result"
    }
   ],
   "source": [
    "model = LinearRegression().fit(xs,ys)\n",
    "model.predict(xs)"
   ]
  },
  {
   "cell_type": "markdown",
   "id": "3abe80fc",
   "metadata": {},
   "source": [
    "Since this is an ordinary model over a univariate data, we have only two parameters: the slope and the intercept. These are:"
   ]
  },
  {
   "cell_type": "code",
   "execution_count": 8,
   "id": "6fea8ff6",
   "metadata": {},
   "outputs": [
    {
     "data": {
      "text/plain": [
       "(0.3943892158160649, -734.9421494386969)"
      ]
     },
     "execution_count": 8,
     "metadata": {},
     "output_type": "execute_result"
    }
   ],
   "source": [
    "(model.coef_[0],model.intercept_)"
   ]
  },
  {
   "cell_type": "markdown",
   "id": "2ced4436",
   "metadata": {},
   "source": [
    "The model score is a percentage. This score tells us how much of the variation in the data is explained by the model:\n",
    "$$ R^2 = 1 - \\frac{\\sum_i (y_i-\\alpha x_i - \\beta_i)^2}{\\sum_i (y_i - \\bar{y})^2 } $$\n",
    "Larger the $R^2$-score, better the model."
   ]
  },
  {
   "cell_type": "code",
   "execution_count": 9,
   "id": "bd0b93d7",
   "metadata": {},
   "outputs": [
    {
     "data": {
      "text/plain": [
       "0.9848937625998927"
      ]
     },
     "execution_count": 9,
     "metadata": {},
     "output_type": "execute_result"
    }
   ],
   "source": [
    "model.score(xs,ys)"
   ]
  },
  {
   "cell_type": "markdown",
   "id": "8aefa08d",
   "metadata": {},
   "source": [
    "But there is an important question we haven't answered yet: how sure are about the model parameters (slope and the intercept)? \n",
    "\n",
    "$$ y = \\beta_1 x + \\beta_0 + \\varepsilon \\qquad \\varepsilon \\sim N(0,\\sigma) $$\n",
    "\n",
    "A good statistical model should give us **confidence intervals** about any measurement we make. So, how can we calculate these confidence intervals?\n",
    "\n",
    "First of all, let us define \n",
    "$$ S_{xx} = \\sum_i (x_i - \\overline{x})^2\n",
    "   \\qquad\n",
    "   S_{xy} = \\sum_i (x_i - \\overline{x})(y_i - \\overline{y})\n",
    "   \\qquad\n",
    "   \\hat{\\sigma}^2 = \\frac{1}{n-2} \\sum_i (y_i - \\beta_1 x_i - \\beta_0)^2\n",
    "$$\n",
    "Then\n",
    "$$ \\beta_1 = \\frac{S_{xy}}{S_{xx}}, \\quad \\beta_0 = \\overline{y} - \\beta_1 \\overline{x} $$\n",
    "As for the standard errors:\n",
    "$$ se(\\beta_1) = \\sqrt{\\frac{\\hat{\\sigma}^2}{S_{xx}}}\n",
    "   \\qquad\n",
    "   se(\\beta_0) = \\sqrt{\\hat{\\sigma}^2\\left(\\frac{1}{n} + \\frac{\\overline{x}^2}{S_{xx}}\\right)}\n",
    "$$\n",
    "Then we use [the t-test](https://en.wikipedia.org/wiki/Student%27s_t-test) to test whether these coefficients are zero:\n",
    "$$ t_{\\beta_1} = \\frac{\\beta_1}{se(\\beta_1)} > t_{p/2, n-2} \n",
    "   \\qquad\n",
    "   t_{\\beta_0} = \\frac{\\beta_0}{se(\\beta_0)} > t_{p/2, n-2}\n",
    "$$"
   ]
  },
  {
   "cell_type": "code",
   "execution_count": 302,
   "id": "668623e9",
   "metadata": {
    "scrolled": true
   },
   "outputs": [],
   "source": [
    "def regression(xs,ys):\n",
    "    N = xs.shape[0]\n",
    "    xbar = xs.mean()\n",
    "    ybar = ys.mean()\n",
    "\n",
    "    xcent = xs - xbar\n",
    "    ycent = ys - ybar\n",
    "\n",
    "    Sxx = np.dot(xcent, xcent)\n",
    "    Sxy = np.dot(xcent, ycent)\n",
    "    Syy = np.dot(ycent, ycent)\n",
    "\n",
    "    beta1 = Sxy/Sxx \n",
    "    beta0 = ybar - beta1*xbar\n",
    "    resid = ys - beta1*xcent - beta0\n",
    "\n",
    "    Sigma2 = (1/(N-2))*np.linalg.norm(resid)\n",
    "    R2 = 1.0 - Sigma2/Syy\n",
    "\n",
    "    return {\n",
    "     'beta_1': beta1,\n",
    "     'beta_0': beta0,\n",
    "     'se(beta_1)': np.sqrt(Sigma2/Sxx),\n",
    "     'se(beta_0)': np.sqrt(Sigma2*(1/N + xbar*xbar/Sxx)),\n",
    "     'R2': R2\n",
    "    }"
   ]
  },
  {
   "cell_type": "markdown",
   "id": "7e6250bd",
   "metadata": {},
   "source": [
    "Here is the result for our data:"
   ]
  },
  {
   "cell_type": "code",
   "execution_count": 303,
   "id": "f4a6c2ad",
   "metadata": {},
   "outputs": [
    {
     "data": {
      "text/plain": [
       "{'beta_1': 0.3943892158160648,\n",
       " 'beta_0': -734.9421494386967,\n",
       " 'se(beta_1)': 0.07412246823030857,\n",
       " 'se(beta_0)': 147.5094850234109,\n",
       " 'R2': 0.96521123031143}"
      ]
     },
     "execution_count": 303,
     "metadata": {},
     "output_type": "execute_result"
    }
   ],
   "source": [
    "res = regression(xs.reshape(61),ys)\n",
    "res"
   ]
  },
  {
   "cell_type": "markdown",
   "id": "1ecdc85c",
   "metadata": {},
   "source": [
    "Now we test if the coefficients are non-zero. The null hypothesis is that coefficients are zero. We use Student's t-test. I'll fix test the result at 95%:"
   ]
  },
  {
   "cell_type": "code",
   "execution_count": 308,
   "id": "f0504ad3",
   "metadata": {},
   "outputs": [
    {
     "data": {
      "text/plain": [
       "(True, True)"
      ]
     },
     "execution_count": 308,
     "metadata": {},
     "output_type": "execute_result"
    }
   ],
   "source": [
    "alpha = 1e-5\n",
    "\n",
    "(res['beta_1']/res['se(beta_1)'] > stats.t.isf(alpha/2.0, N-2),\n",
    " np.abs(res['beta_0']/res['se(beta_0)']) > stats.t.isf(alpha/2.0, N-2))"
   ]
  },
  {
   "cell_type": "markdown",
   "id": "a3a87b90",
   "metadata": {},
   "source": [
    "So, we can be sure that the coefficents are non-zero at this confidence level."
   ]
  },
  {
   "cell_type": "markdown",
   "id": "051f1da7",
   "metadata": {},
   "source": [
    "# Multivariate Regression"
   ]
  },
  {
   "cell_type": "code",
   "execution_count": 309,
   "id": "e1d8d286",
   "metadata": {},
   "outputs": [
    {
     "data": {
      "text/html": [
       "<div>\n",
       "<style scoped>\n",
       "    .dataframe tbody tr th:only-of-type {\n",
       "        vertical-align: middle;\n",
       "    }\n",
       "\n",
       "    .dataframe tbody tr th {\n",
       "        vertical-align: top;\n",
       "    }\n",
       "\n",
       "    .dataframe thead th {\n",
       "        text-align: right;\n",
       "    }\n",
       "</style>\n",
       "<table border=\"1\" class=\"dataframe\">\n",
       "  <thead>\n",
       "    <tr style=\"text-align: right;\">\n",
       "      <th></th>\n",
       "      <th>country</th>\n",
       "      <th>year</th>\n",
       "      <th>GDP</th>\n",
       "    </tr>\n",
       "  </thead>\n",
       "  <tbody>\n",
       "    <tr>\n",
       "      <th>0</th>\n",
       "      <td>Aruba</td>\n",
       "      <td>1986</td>\n",
       "      <td>6472.398709</td>\n",
       "    </tr>\n",
       "    <tr>\n",
       "      <th>1</th>\n",
       "      <td>Aruba</td>\n",
       "      <td>1987</td>\n",
       "      <td>7885.158927</td>\n",
       "    </tr>\n",
       "    <tr>\n",
       "      <th>2</th>\n",
       "      <td>Aruba</td>\n",
       "      <td>1988</td>\n",
       "      <td>9765.909207</td>\n",
       "    </tr>\n",
       "    <tr>\n",
       "      <th>3</th>\n",
       "      <td>Aruba</td>\n",
       "      <td>1989</td>\n",
       "      <td>11392.269150</td>\n",
       "    </tr>\n",
       "    <tr>\n",
       "      <th>4</th>\n",
       "      <td>Aruba</td>\n",
       "      <td>1990</td>\n",
       "      <td>12306.717679</td>\n",
       "    </tr>\n",
       "    <tr>\n",
       "      <th>...</th>\n",
       "      <td>...</td>\n",
       "      <td>...</td>\n",
       "      <td>...</td>\n",
       "    </tr>\n",
       "    <tr>\n",
       "      <th>12832</th>\n",
       "      <td>Zimbabwe</td>\n",
       "      <td>2016</td>\n",
       "      <td>1464.588957</td>\n",
       "    </tr>\n",
       "    <tr>\n",
       "      <th>12833</th>\n",
       "      <td>Zimbabwe</td>\n",
       "      <td>2017</td>\n",
       "      <td>1235.189032</td>\n",
       "    </tr>\n",
       "    <tr>\n",
       "      <th>12834</th>\n",
       "      <td>Zimbabwe</td>\n",
       "      <td>2018</td>\n",
       "      <td>1254.642265</td>\n",
       "    </tr>\n",
       "    <tr>\n",
       "      <th>12835</th>\n",
       "      <td>Zimbabwe</td>\n",
       "      <td>2019</td>\n",
       "      <td>1316.740657</td>\n",
       "    </tr>\n",
       "    <tr>\n",
       "      <th>12836</th>\n",
       "      <td>Zimbabwe</td>\n",
       "      <td>2020</td>\n",
       "      <td>1214.509820</td>\n",
       "    </tr>\n",
       "  </tbody>\n",
       "</table>\n",
       "<p>12837 rows × 3 columns</p>\n",
       "</div>"
      ],
      "text/plain": [
       "        country  year           GDP\n",
       "0         Aruba  1986   6472.398709\n",
       "1         Aruba  1987   7885.158927\n",
       "2         Aruba  1988   9765.909207\n",
       "3         Aruba  1989  11392.269150\n",
       "4         Aruba  1990  12306.717679\n",
       "...         ...   ...           ...\n",
       "12832  Zimbabwe  2016   1464.588957\n",
       "12833  Zimbabwe  2017   1235.189032\n",
       "12834  Zimbabwe  2018   1254.642265\n",
       "12835  Zimbabwe  2019   1316.740657\n",
       "12836  Zimbabwe  2020   1214.509820\n",
       "\n",
       "[12837 rows x 3 columns]"
      ]
     },
     "execution_count": 309,
     "metadata": {},
     "output_type": "execute_result"
    }
   ],
   "source": [
    "worldGDP = WBQuery('ny.gdp.pcap.cd','GDP')\n",
    "worldGDP"
   ]
  },
  {
   "cell_type": "code",
   "execution_count": 310,
   "id": "caba8a9f",
   "metadata": {},
   "outputs": [
    {
     "data": {
      "text/html": [
       "<div>\n",
       "<style scoped>\n",
       "    .dataframe tbody tr th:only-of-type {\n",
       "        vertical-align: middle;\n",
       "    }\n",
       "\n",
       "    .dataframe tbody tr th {\n",
       "        vertical-align: top;\n",
       "    }\n",
       "\n",
       "    .dataframe thead th {\n",
       "        text-align: right;\n",
       "    }\n",
       "</style>\n",
       "<table border=\"1\" class=\"dataframe\">\n",
       "  <thead>\n",
       "    <tr style=\"text-align: right;\">\n",
       "      <th></th>\n",
       "      <th>GDP</th>\n",
       "    </tr>\n",
       "    <tr>\n",
       "      <th>year</th>\n",
       "      <th></th>\n",
       "    </tr>\n",
       "  </thead>\n",
       "  <tbody>\n",
       "    <tr>\n",
       "      <th>1960</th>\n",
       "      <td>482.725314</td>\n",
       "    </tr>\n",
       "    <tr>\n",
       "      <th>1961</th>\n",
       "      <td>491.115624</td>\n",
       "    </tr>\n",
       "    <tr>\n",
       "      <th>1962</th>\n",
       "      <td>513.103203</td>\n",
       "    </tr>\n",
       "    <tr>\n",
       "      <th>1963</th>\n",
       "      <td>544.566319</td>\n",
       "    </tr>\n",
       "    <tr>\n",
       "      <th>1964</th>\n",
       "      <td>590.805091</td>\n",
       "    </tr>\n",
       "    <tr>\n",
       "      <th>...</th>\n",
       "      <td>...</td>\n",
       "    </tr>\n",
       "    <tr>\n",
       "      <th>2016</th>\n",
       "      <td>15524.456868</td>\n",
       "    </tr>\n",
       "    <tr>\n",
       "      <th>2017</th>\n",
       "      <td>16308.827347</td>\n",
       "    </tr>\n",
       "    <tr>\n",
       "      <th>2018</th>\n",
       "      <td>17288.675629</td>\n",
       "    </tr>\n",
       "    <tr>\n",
       "      <th>2019</th>\n",
       "      <td>17144.609643</td>\n",
       "    </tr>\n",
       "    <tr>\n",
       "      <th>2020</th>\n",
       "      <td>14354.539354</td>\n",
       "    </tr>\n",
       "  </tbody>\n",
       "</table>\n",
       "<p>61 rows × 1 columns</p>\n",
       "</div>"
      ],
      "text/plain": [
       "               GDP\n",
       "year              \n",
       "1960    482.725314\n",
       "1961    491.115624\n",
       "1962    513.103203\n",
       "1963    544.566319\n",
       "1964    590.805091\n",
       "...            ...\n",
       "2016  15524.456868\n",
       "2017  16308.827347\n",
       "2018  17288.675629\n",
       "2019  17144.609643\n",
       "2020  14354.539354\n",
       "\n",
       "[61 rows x 1 columns]"
      ]
     },
     "execution_count": 310,
     "metadata": {},
     "output_type": "execute_result"
    }
   ],
   "source": [
    "globalGDP = worldGDP.groupby('year').mean()\n",
    "globalGDP"
   ]
  },
  {
   "cell_type": "code",
   "execution_count": 321,
   "id": "4793a380",
   "metadata": {},
   "outputs": [
    {
     "data": {
      "text/plain": [
       "<AxesSubplot:xlabel='year'>"
      ]
     },
     "execution_count": 321,
     "metadata": {},
     "output_type": "execute_result"
    },
    {
     "data": {
      "image/png": "[encoded data removed]",
      "text/plain": [
       "<Figure size 864x432 with 1 Axes>"
      ]
     },
     "metadata": {
      "needs_background": "light"
     },
     "output_type": "display_data"
    }
   ],
   "source": [
    "turkishGDP = worldGDP[worldGDP['country']=='Turkey']\n",
    "turkishGDP.index = turkishGDP['year']\n",
    "del turkishGDP['country']\n",
    "turkishGDP['GDP'].plot()"
   ]
  },
  {
   "cell_type": "code",
   "execution_count": 329,
   "id": "64feeed1",
   "metadata": {},
   "outputs": [],
   "source": [
    "turkishData = turUrbPop.join(turkishGDP,how='inner')\n",
    "turkishData['year'] = turkishData['year'].astype(float)"
   ]
  },
  {
   "cell_type": "code",
   "execution_count": 311,
   "id": "2579f0b4",
   "metadata": {},
   "outputs": [
    {
     "data": {
      "text/plain": [
       "<AxesSubplot:xlabel='year'>"
      ]
     },
     "execution_count": 311,
     "metadata": {},
     "output_type": "execute_result"
    },
    {
     "data": {
      "image/png": "[encoded data removed]",
      "text/plain": [
       "<Figure size 864x432 with 1 Axes>"
      ]
     },
     "metadata": {
      "needs_background": "light"
     },
     "output_type": "display_data"
    }
   ],
   "source": [
    "globalGDP.plot()"
   ]
  },
  {
   "cell_type": "code",
   "execution_count": 157,
   "id": "3006d345",
   "metadata": {},
   "outputs": [
    {
     "data": {
      "text/html": [
       "<div>\n",
       "<style scoped>\n",
       "    .dataframe tbody tr th:only-of-type {\n",
       "        vertical-align: middle;\n",
       "    }\n",
       "\n",
       "    .dataframe tbody tr th {\n",
       "        vertical-align: top;\n",
       "    }\n",
       "\n",
       "    .dataframe thead th {\n",
       "        text-align: right;\n",
       "    }\n",
       "</style>\n",
       "<table border=\"1\" class=\"dataframe\">\n",
       "  <thead>\n",
       "    <tr style=\"text-align: right;\">\n",
       "      <th></th>\n",
       "      <th>GDP</th>\n",
       "      <th>urban_pop</th>\n",
       "    </tr>\n",
       "    <tr>\n",
       "      <th>year</th>\n",
       "      <th></th>\n",
       "      <th></th>\n",
       "    </tr>\n",
       "  </thead>\n",
       "  <tbody>\n",
       "    <tr>\n",
       "      <th>1960</th>\n",
       "      <td>482.725314</td>\n",
       "      <td>36.243845</td>\n",
       "    </tr>\n",
       "    <tr>\n",
       "      <th>1961</th>\n",
       "      <td>491.115624</td>\n",
       "      <td>36.763893</td>\n",
       "    </tr>\n",
       "    <tr>\n",
       "      <th>1962</th>\n",
       "      <td>513.103203</td>\n",
       "      <td>37.294984</td>\n",
       "    </tr>\n",
       "    <tr>\n",
       "      <th>1963</th>\n",
       "      <td>544.566319</td>\n",
       "      <td>37.833980</td>\n",
       "    </tr>\n",
       "    <tr>\n",
       "      <th>1964</th>\n",
       "      <td>590.805091</td>\n",
       "      <td>38.383669</td>\n",
       "    </tr>\n",
       "    <tr>\n",
       "      <th>...</th>\n",
       "      <td>...</td>\n",
       "      <td>...</td>\n",
       "    </tr>\n",
       "    <tr>\n",
       "      <th>2016</th>\n",
       "      <td>15524.456868</td>\n",
       "      <td>59.268115</td>\n",
       "    </tr>\n",
       "    <tr>\n",
       "      <th>2017</th>\n",
       "      <td>16308.827347</td>\n",
       "      <td>59.586065</td>\n",
       "    </tr>\n",
       "    <tr>\n",
       "      <th>2018</th>\n",
       "      <td>17288.675629</td>\n",
       "      <td>59.907127</td>\n",
       "    </tr>\n",
       "    <tr>\n",
       "      <th>2019</th>\n",
       "      <td>17144.609643</td>\n",
       "      <td>60.231397</td>\n",
       "    </tr>\n",
       "    <tr>\n",
       "      <th>2020</th>\n",
       "      <td>14354.539354</td>\n",
       "      <td>60.558593</td>\n",
       "    </tr>\n",
       "  </tbody>\n",
       "</table>\n",
       "<p>61 rows × 2 columns</p>\n",
       "</div>"
      ],
      "text/plain": [
       "               GDP  urban_pop\n",
       "year                         \n",
       "1960    482.725314  36.243845\n",
       "1961    491.115624  36.763893\n",
       "1962    513.103203  37.294984\n",
       "1963    544.566319  37.833980\n",
       "1964    590.805091  38.383669\n",
       "...            ...        ...\n",
       "2016  15524.456868  59.268115\n",
       "2017  16308.827347  59.586065\n",
       "2018  17288.675629  59.907127\n",
       "2019  17144.609643  60.231397\n",
       "2020  14354.539354  60.558593\n",
       "\n",
       "[61 rows x 2 columns]"
      ]
     },
     "execution_count": 157,
     "metadata": {},
     "output_type": "execute_result"
    }
   ],
   "source": [
    "data = globalGDP.join(globalUrbanPop,how='inner')\n",
    "data"
   ]
  },
  {
   "cell_type": "code",
   "execution_count": 158,
   "id": "dd82e2d0",
   "metadata": {},
   "outputs": [
    {
     "data": {
      "text/html": [
       "<div>\n",
       "<style scoped>\n",
       "    .dataframe tbody tr th:only-of-type {\n",
       "        vertical-align: middle;\n",
       "    }\n",
       "\n",
       "    .dataframe tbody tr th {\n",
       "        vertical-align: top;\n",
       "    }\n",
       "\n",
       "    .dataframe thead th {\n",
       "        text-align: right;\n",
       "    }\n",
       "</style>\n",
       "<table border=\"1\" class=\"dataframe\">\n",
       "  <thead>\n",
       "    <tr style=\"text-align: right;\">\n",
       "      <th></th>\n",
       "      <th>GDP</th>\n",
       "      <th>urban_pop</th>\n",
       "      <th>year</th>\n",
       "    </tr>\n",
       "    <tr>\n",
       "      <th>year</th>\n",
       "      <th></th>\n",
       "      <th></th>\n",
       "      <th></th>\n",
       "    </tr>\n",
       "  </thead>\n",
       "  <tbody>\n",
       "    <tr>\n",
       "      <th>1960</th>\n",
       "      <td>482.725314</td>\n",
       "      <td>36.243845</td>\n",
       "      <td>1960</td>\n",
       "    </tr>\n",
       "    <tr>\n",
       "      <th>1961</th>\n",
       "      <td>491.115624</td>\n",
       "      <td>36.763893</td>\n",
       "      <td>1961</td>\n",
       "    </tr>\n",
       "    <tr>\n",
       "      <th>1962</th>\n",
       "      <td>513.103203</td>\n",
       "      <td>37.294984</td>\n",
       "      <td>1962</td>\n",
       "    </tr>\n",
       "    <tr>\n",
       "      <th>1963</th>\n",
       "      <td>544.566319</td>\n",
       "      <td>37.833980</td>\n",
       "      <td>1963</td>\n",
       "    </tr>\n",
       "    <tr>\n",
       "      <th>1964</th>\n",
       "      <td>590.805091</td>\n",
       "      <td>38.383669</td>\n",
       "      <td>1964</td>\n",
       "    </tr>\n",
       "    <tr>\n",
       "      <th>...</th>\n",
       "      <td>...</td>\n",
       "      <td>...</td>\n",
       "      <td>...</td>\n",
       "    </tr>\n",
       "    <tr>\n",
       "      <th>2016</th>\n",
       "      <td>15524.456868</td>\n",
       "      <td>59.268115</td>\n",
       "      <td>2016</td>\n",
       "    </tr>\n",
       "    <tr>\n",
       "      <th>2017</th>\n",
       "      <td>16308.827347</td>\n",
       "      <td>59.586065</td>\n",
       "      <td>2017</td>\n",
       "    </tr>\n",
       "    <tr>\n",
       "      <th>2018</th>\n",
       "      <td>17288.675629</td>\n",
       "      <td>59.907127</td>\n",
       "      <td>2018</td>\n",
       "    </tr>\n",
       "    <tr>\n",
       "      <th>2019</th>\n",
       "      <td>17144.609643</td>\n",
       "      <td>60.231397</td>\n",
       "      <td>2019</td>\n",
       "    </tr>\n",
       "    <tr>\n",
       "      <th>2020</th>\n",
       "      <td>14354.539354</td>\n",
       "      <td>60.558593</td>\n",
       "      <td>2020</td>\n",
       "    </tr>\n",
       "  </tbody>\n",
       "</table>\n",
       "<p>61 rows × 3 columns</p>\n",
       "</div>"
      ],
      "text/plain": [
       "               GDP  urban_pop  year\n",
       "year                               \n",
       "1960    482.725314  36.243845  1960\n",
       "1961    491.115624  36.763893  1961\n",
       "1962    513.103203  37.294984  1962\n",
       "1963    544.566319  37.833980  1963\n",
       "1964    590.805091  38.383669  1964\n",
       "...            ...        ...   ...\n",
       "2016  15524.456868  59.268115  2016\n",
       "2017  16308.827347  59.586065  2017\n",
       "2018  17288.675629  59.907127  2018\n",
       "2019  17144.609643  60.231397  2019\n",
       "2020  14354.539354  60.558593  2020\n",
       "\n",
       "[61 rows x 3 columns]"
      ]
     },
     "execution_count": 158,
     "metadata": {},
     "output_type": "execute_result"
    }
   ],
   "source": [
    "data['year'] = range(1960,2021)\n",
    "data"
   ]
  },
  {
   "cell_type": "markdown",
   "id": "c21205f1",
   "metadata": {},
   "source": [
    "So, here is a question: which is a better predictor for urban population? GDP or the year?"
   ]
  },
  {
   "cell_type": "code",
   "execution_count": 324,
   "id": "213ab213",
   "metadata": {},
   "outputs": [
    {
     "data": {
      "text/plain": [
       "{'beta_1': 0.003116777959286902,\n",
       " 'beta_0': 42.53550893041123,\n",
       " 'se(beta_1)': 4.5221506587338355e-05,\n",
       " 'se(beta_0)': 0.2559884669926498,\n",
       " 'R2': 0.9998458715720978}"
      ]
     },
     "execution_count": 324,
     "metadata": {},
     "output_type": "execute_result"
    }
   ],
   "source": [
    "regression(turkishData['GDP'],turkishData['urban_pop'])"
   ]
  },
  {
   "cell_type": "code",
   "execution_count": 326,
   "id": "0bca90de",
   "metadata": {},
   "outputs": [
    {
     "data": {
      "text/plain": [
       "{'beta_1': 0.8086359069275517,\n",
       " 'beta_0': -1554.0004711792706,\n",
       " 'se(beta_1)': 0.10613628976729285,\n",
       " 'se(beta_0)': 211.21948337207584,\n",
       " 'R2': 0.983098872283929}"
      ]
     },
     "execution_count": 326,
     "metadata": {},
     "output_type": "execute_result"
    }
   ],
   "source": [
    "regression(turkishData['year'].astype(float),turkishData['urban_pop'])"
   ]
  },
  {
   "cell_type": "markdown",
   "id": "629cc048",
   "metadata": {},
   "source": [
    "But what if we put both variables into a regression? But for that we need multivariate regression:\n",
    "\n",
    "# Multivariate Regression\n",
    "\n",
    "Assume we have a sample $(x^{(i)},y^{(i)})_{i=1}^N$ where each $x^{(i)}$ is a $m$-dimensional vector. Let us write $X = (x^{(i)})$ and $y = (y^{(i)})$ where $X$ is an $N\\times m$ matrix and $y$ is an $N\\times 1$ column vector. We want to create a linear regression model of the form\n",
    "\n",
    "$$ y \\sim X \\beta_1 + \\beta_0 $$\n",
    "\n",
    "where $\\beta_1$ is a $m\\times 1$ column vector.  One can further reduce the model to \n",
    "\n",
    "$$ y \\sim X' \\beta $$\n",
    "\n",
    "by augmenting $X$ by a column of 1's. From now on, I'll write $X$ and for the augmented matrix $X'$.\n",
    "\n",
    "If we multiply both sides with $X^t$ we get\n",
    "\n",
    "$$ X^t y \\sim X^t X \\beta $$\n",
    "\n",
    "When the columns of $X$ are linearly independent, $X^t X$ is an invertible matrix and we get\n",
    "\n",
    "$$ \\beta \\sim (X^t X)^{-1} X^t y $$ \n",
    "\n",
    "So far so good. However, we still have to find standard errors for the coefficents. Let us start by calculating model variance\n",
    "\n",
    "$$ \\hat{\\sigma}^2 = \\frac{1}{N-m} \\sum_{i=1}^n (y^{(i)} - \\beta^t x^{(i)})^2 $$\n",
    "\n",
    "Then $Var(\\beta_j) = \\hat{\\sigma}^2 C_{jj}$ where $X^t X = (C_{ij})$"
   ]
  },
  {
   "cell_type": "code",
   "execution_count": 331,
   "id": "5bfbc389",
   "metadata": {},
   "outputs": [],
   "source": [
    "def multiRegression(xs,ys):\n",
    "    N,m = xs.shape\n",
    "    \n",
    "    ybar = ys.mean()\n",
    "    ycent = ys - ybar\n",
    "    Syy = np.dot(ycent,ycent)\n",
    "    \n",
    "    X = np.c_[np.ones(xs.shape[0]),xs]\n",
    "    Xt = X.transpose()\n",
    "    XXt = np.linalg.inv(np.matmul(Xt,X))\n",
    "    beta = np.matmul(np.matmul(XXt,Xt),ys)\n",
    "    \n",
    "    resid = ys - np.matmul(beta,X.transpose())\n",
    "    sigma2 = (1.0/(N-m))*np.dot(resid,resid)\n",
    "    se = np.sqrt(sigma2*np.diag(XXt))\n",
    "    R2 = 1.0 - sigma2/Syy\n",
    "    \n",
    "    return ({'beta': beta, 'R2': R2, 'SE(beta)': se})"
   ]
  },
  {
   "cell_type": "markdown",
   "id": "815176d8",
   "metadata": {},
   "source": [
    "The intercept is the first term in the returned vector $\\beta$, and therefore, the first terms in the standard error vector goes with the intercept. "
   ]
  },
  {
   "cell_type": "code",
   "execution_count": 332,
   "id": "029225a2",
   "metadata": {
    "scrolled": true
   },
   "outputs": [
    {
     "data": {
      "text/plain": [
       "{'beta': array([-1.77104316e+03, -5.49684357e-04,  9.18823642e-01]),\n",
       " 'R2': 0.9997561556696791,\n",
       " 'SE(beta)': array([5.62533892e+01, 1.27155436e-04, 2.84995065e-02])}"
      ]
     },
     "execution_count": 332,
     "metadata": {},
     "output_type": "execute_result"
    }
   ],
   "source": [
    "res = multiRegression(turkishData[['GDP','year']],turkishData['urban_pop'])\n",
    "res"
   ]
  },
  {
   "cell_type": "code",
   "execution_count": 162,
   "id": "4d080fd6",
   "metadata": {},
   "outputs": [
    {
     "data": {
      "text/plain": [
       "{'beta_1': 0.001157356360078545,\n",
       " 'beta_0': 41.81921720551001,\n",
       " 'se(beta_1)': 2.4232007399765155e-05,\n",
       " 'se(beta_0)': 0.21679087000447853,\n",
       " 'R2': 0.9996236195543639}"
      ]
     },
     "execution_count": 162,
     "metadata": {},
     "output_type": "execute_result"
    }
   ],
   "source": [
    "regression(data['GDP'],data['urban_pop'])"
   ]
  },
  {
   "cell_type": "code",
   "execution_count": 163,
   "id": "698b4b4a",
   "metadata": {},
   "outputs": [
    {
     "data": {
      "text/plain": [
       "{'beta_1': 0.3943892158160648,\n",
       " 'beta_0': -734.9421494386967,\n",
       " 'se(beta_1)': 0.07412246823030857,\n",
       " 'se(beta_0)': 147.5094850234109,\n",
       " 'R2': 0.96521123031143}"
      ]
     },
     "execution_count": 163,
     "metadata": {},
     "output_type": "execute_result"
    }
   ],
   "source": [
    "regression(data['year'],data['urban_pop'])"
   ]
  },
  {
   "cell_type": "code",
   "execution_count": 334,
   "id": "9899393b",
   "metadata": {},
   "outputs": [
    {
     "data": {
      "text/plain": [
       "array([ True,  True,  True])"
      ]
     },
     "execution_count": 334,
     "metadata": {},
     "output_type": "execute_result"
    }
   ],
   "source": [
    "alpha = 5e-2\n",
    "\n",
    "N = data.shape[0]\n",
    "m = 3\n",
    "\n",
    "np.abs(res['beta']/res['SE(beta)']) > stats.t.isf(alpha/2.0, N-m)*np.ones(3)"
   ]
  },
  {
   "cell_type": "code",
   "execution_count": 148,
   "id": "fdb657cf",
   "metadata": {},
   "outputs": [
    {
     "data": {
      "text/plain": [
       "{'beta': array([4.18192172e+01, 1.15735636e-03]),\n",
       " 'R2': 0.9976430561365393,\n",
       " 'SE(beta)': array([5.42502922e-01, 6.06387844e-05])}"
      ]
     },
     "execution_count": 148,
     "metadata": {},
     "output_type": "execute_result"
    }
   ],
   "source": [
    "multiRegression(data['GDP'].to_numpy().reshape((61,1)),data['urban pop.'])"
   ]
  },
  {
   "cell_type": "markdown",
   "id": "04308dc0",
   "metadata": {},
   "source": [
    "# There is a library for that\n",
    "\n",
    "Well, the good news is that we didn't have to implement this by hand:\n"
   ]
  },
  {
   "cell_type": "code",
   "execution_count": 150,
   "id": "4e6f73b9",
   "metadata": {},
   "outputs": [],
   "source": [
    "from statsmodels.formula.api import ols\n",
    "from statsmodels.stats.anova import anova_lm"
   ]
  },
  {
   "cell_type": "code",
   "execution_count": 167,
   "id": "d8654ecf",
   "metadata": {},
   "outputs": [
    {
     "data": {
      "text/html": [
       "<table class=\"simpletable\">\n",
       "<caption>OLS Regression Results</caption>\n",
       "<tr>\n",
       "  <th>Dep. Variable:</th>        <td>urban_pop</td>    <th>  R-squared:         </th> <td>   0.993</td>\n",
       "</tr>\n",
       "<tr>\n",
       "  <th>Model:</th>                   <td>OLS</td>       <th>  Adj. R-squared:    </th> <td>   0.993</td>\n",
       "</tr>\n",
       "<tr>\n",
       "  <th>Method:</th>             <td>Least Squares</td>  <th>  F-statistic:       </th> <td>   3995.</td>\n",
       "</tr>\n",
       "<tr>\n",
       "  <th>Date:</th>             <td>Mon, 21 Mar 2022</td> <th>  Prob (F-statistic):</th> <td>7.47e-63</td>\n",
       "</tr>\n",
       "<tr>\n",
       "  <th>Time:</th>                 <td>23:03:55</td>     <th>  Log-Likelihood:    </th> <td> -54.779</td>\n",
       "</tr>\n",
       "<tr>\n",
       "  <th>No. Observations:</th>      <td>    61</td>      <th>  AIC:               </th> <td>   115.6</td>\n",
       "</tr>\n",
       "<tr>\n",
       "  <th>Df Residuals:</th>          <td>    58</td>      <th>  BIC:               </th> <td>   121.9</td>\n",
       "</tr>\n",
       "<tr>\n",
       "  <th>Df Model:</th>              <td>     2</td>      <th>                     </th>     <td> </td>   \n",
       "</tr>\n",
       "<tr>\n",
       "  <th>Covariance Type:</th>      <td>nonrobust</td>    <th>                     </th>     <td> </td>   \n",
       "</tr>\n",
       "</table>\n",
       "<table class=\"simpletable\">\n",
       "<tr>\n",
       "      <td></td>         <th>coef</th>     <th>std err</th>      <th>t</th>      <th>P>|t|</th>  <th>[0.025</th>    <th>0.975]</th>  \n",
       "</tr>\n",
       "<tr>\n",
       "  <th>Intercept</th> <td> -970.1991</td> <td>   30.792</td> <td>  -31.508</td> <td> 0.000</td> <td>-1031.836</td> <td> -908.562</td>\n",
       "</tr>\n",
       "<tr>\n",
       "  <th>year</th>      <td>    0.5140</td> <td>    0.016</td> <td>   32.866</td> <td> 0.000</td> <td>    0.483</td> <td>    0.545</td>\n",
       "</tr>\n",
       "<tr>\n",
       "  <th>GDP</th>       <td>   -0.0004</td> <td> 4.92e-05</td> <td>   -7.974</td> <td> 0.000</td> <td>   -0.000</td> <td>   -0.000</td>\n",
       "</tr>\n",
       "</table>\n",
       "<table class=\"simpletable\">\n",
       "<tr>\n",
       "  <th>Omnibus:</th>       <td> 2.320</td> <th>  Durbin-Watson:     </th> <td>   0.218</td>\n",
       "</tr>\n",
       "<tr>\n",
       "  <th>Prob(Omnibus):</th> <td> 0.313</td> <th>  Jarque-Bera (JB):  </th> <td>   2.206</td>\n",
       "</tr>\n",
       "<tr>\n",
       "  <th>Skew:</th>          <td>-0.449</td> <th>  Prob(JB):          </th> <td>   0.332</td>\n",
       "</tr>\n",
       "<tr>\n",
       "  <th>Kurtosis:</th>      <td> 2.752</td> <th>  Cond. No.          </th> <td>3.59e+06</td>\n",
       "</tr>\n",
       "</table><br/><br/>Notes:<br/>[1] Standard Errors assume that the covariance matrix of the errors is correctly specified.<br/>[2] The condition number is large, 3.59e+06. This might indicate that there are<br/>strong multicollinearity or other numerical problems."
      ],
      "text/plain": [
       "<class 'statsmodels.iolib.summary.Summary'>\n",
       "\"\"\"\n",
       "                            OLS Regression Results                            \n",
       "==============================================================================\n",
       "Dep. Variable:              urban_pop   R-squared:                       0.993\n",
       "Model:                            OLS   Adj. R-squared:                  0.993\n",
       "Method:                 Least Squares   F-statistic:                     3995.\n",
       "Date:                Mon, 21 Mar 2022   Prob (F-statistic):           7.47e-63\n",
       "Time:                        23:03:55   Log-Likelihood:                -54.779\n",
       "No. Observations:                  61   AIC:                             115.6\n",
       "Df Residuals:                      58   BIC:                             121.9\n",
       "Df Model:                           2                                         \n",
       "Covariance Type:            nonrobust                                         \n",
       "==============================================================================\n",
       "                 coef    std err          t      P>|t|      [0.025      0.975]\n",
       "------------------------------------------------------------------------------\n",
       "Intercept   -970.1991     30.792    -31.508      0.000   -1031.836    -908.562\n",
       "year           0.5140      0.016     32.866      0.000       0.483       0.545\n",
       "GDP           -0.0004   4.92e-05     -7.974      0.000      -0.000      -0.000\n",
       "==============================================================================\n",
       "Omnibus:                        2.320   Durbin-Watson:                   0.218\n",
       "Prob(Omnibus):                  0.313   Jarque-Bera (JB):                2.206\n",
       "Skew:                          -0.449   Prob(JB):                        0.332\n",
       "Kurtosis:                       2.752   Cond. No.                     3.59e+06\n",
       "==============================================================================\n",
       "\n",
       "Notes:\n",
       "[1] Standard Errors assume that the covariance matrix of the errors is correctly specified.\n",
       "[2] The condition number is large, 3.59e+06. This might indicate that there are\n",
       "strong multicollinearity or other numerical problems.\n",
       "\"\"\""
      ]
     },
     "execution_count": 167,
     "metadata": {},
     "output_type": "execute_result"
    }
   ],
   "source": [
    "model = ols('urban_pop ~ year + GDP', data).fit()\n",
    "model.summary()"
   ]
  },
  {
   "cell_type": "markdown",
   "id": "24a42fd8",
   "metadata": {},
   "source": [
    "OK. We have two independent variables. Which one is more important for the model? If we were to drop one variable, which one should we drop? For that we need to look at the ANOVA (ANalysis Of VAriance) table."
   ]
  },
  {
   "cell_type": "code",
   "execution_count": 168,
   "id": "a6fe98e2",
   "metadata": {},
   "outputs": [
    {
     "data": {
      "text/html": [
       "<div>\n",
       "<style scoped>\n",
       "    .dataframe tbody tr th:only-of-type {\n",
       "        vertical-align: middle;\n",
       "    }\n",
       "\n",
       "    .dataframe tbody tr th {\n",
       "        vertical-align: top;\n",
       "    }\n",
       "\n",
       "    .dataframe thead th {\n",
       "        text-align: right;\n",
       "    }\n",
       "</style>\n",
       "<table border=\"1\" class=\"dataframe\">\n",
       "  <thead>\n",
       "    <tr style=\"text-align: right;\">\n",
       "      <th></th>\n",
       "      <th>df</th>\n",
       "      <th>sum_sq</th>\n",
       "      <th>mean_sq</th>\n",
       "      <th>F</th>\n",
       "      <th>PR(&gt;F)</th>\n",
       "    </tr>\n",
       "  </thead>\n",
       "  <tbody>\n",
       "    <tr>\n",
       "      <th>year</th>\n",
       "      <td>1.0</td>\n",
       "      <td>2941.315361</td>\n",
       "      <td>2941.315361</td>\n",
       "      <td>7926.972350</td>\n",
       "      <td>9.848430e-64</td>\n",
       "    </tr>\n",
       "    <tr>\n",
       "      <th>GDP</th>\n",
       "      <td>1.0</td>\n",
       "      <td>23.592717</td>\n",
       "      <td>23.592717</td>\n",
       "      <td>63.583394</td>\n",
       "      <td>6.773310e-11</td>\n",
       "    </tr>\n",
       "    <tr>\n",
       "      <th>Residual</th>\n",
       "      <td>58.0</td>\n",
       "      <td>21.520990</td>\n",
       "      <td>0.371052</td>\n",
       "      <td>NaN</td>\n",
       "      <td>NaN</td>\n",
       "    </tr>\n",
       "  </tbody>\n",
       "</table>\n",
       "</div>"
      ],
      "text/plain": [
       "            df       sum_sq      mean_sq            F        PR(>F)\n",
       "year       1.0  2941.315361  2941.315361  7926.972350  9.848430e-64\n",
       "GDP        1.0    23.592717    23.592717    63.583394  6.773310e-11\n",
       "Residual  58.0    21.520990     0.371052          NaN           NaN"
      ]
     },
     "execution_count": 168,
     "metadata": {},
     "output_type": "execute_result"
    }
   ],
   "source": [
    "anova_lm(model)"
   ]
  },
  {
   "cell_type": "markdown",
   "id": "e8883a84",
   "metadata": {},
   "source": [
    "# Colinearity Problems"
   ]
  },
  {
   "cell_type": "code",
   "execution_count": 335,
   "id": "316a84e0",
   "metadata": {},
   "outputs": [
    {
     "data": {
      "text/html": [
       "<div>\n",
       "<style scoped>\n",
       "    .dataframe tbody tr th:only-of-type {\n",
       "        vertical-align: middle;\n",
       "    }\n",
       "\n",
       "    .dataframe tbody tr th {\n",
       "        vertical-align: top;\n",
       "    }\n",
       "\n",
       "    .dataframe thead th {\n",
       "        text-align: right;\n",
       "    }\n",
       "</style>\n",
       "<table border=\"1\" class=\"dataframe\">\n",
       "  <thead>\n",
       "    <tr style=\"text-align: right;\">\n",
       "      <th></th>\n",
       "      <th>mpg</th>\n",
       "      <th>cylinders</th>\n",
       "      <th>displacement</th>\n",
       "      <th>horsepower</th>\n",
       "      <th>weight</th>\n",
       "      <th>acceleration</th>\n",
       "      <th>year</th>\n",
       "      <th>origin</th>\n",
       "      <th>name</th>\n",
       "    </tr>\n",
       "  </thead>\n",
       "  <tbody>\n",
       "    <tr>\n",
       "      <th>0</th>\n",
       "      <td>18.0</td>\n",
       "      <td>8</td>\n",
       "      <td>307.0</td>\n",
       "      <td>130.0</td>\n",
       "      <td>3504.0</td>\n",
       "      <td>12.0</td>\n",
       "      <td>70</td>\n",
       "      <td>1</td>\n",
       "      <td>chevrolet chevelle malibu</td>\n",
       "    </tr>\n",
       "    <tr>\n",
       "      <th>1</th>\n",
       "      <td>15.0</td>\n",
       "      <td>8</td>\n",
       "      <td>350.0</td>\n",
       "      <td>165.0</td>\n",
       "      <td>3693.0</td>\n",
       "      <td>11.5</td>\n",
       "      <td>70</td>\n",
       "      <td>1</td>\n",
       "      <td>buick skylark 320</td>\n",
       "    </tr>\n",
       "    <tr>\n",
       "      <th>2</th>\n",
       "      <td>18.0</td>\n",
       "      <td>8</td>\n",
       "      <td>318.0</td>\n",
       "      <td>150.0</td>\n",
       "      <td>3436.0</td>\n",
       "      <td>11.0</td>\n",
       "      <td>70</td>\n",
       "      <td>1</td>\n",
       "      <td>plymouth satellite</td>\n",
       "    </tr>\n",
       "    <tr>\n",
       "      <th>3</th>\n",
       "      <td>16.0</td>\n",
       "      <td>8</td>\n",
       "      <td>304.0</td>\n",
       "      <td>150.0</td>\n",
       "      <td>3433.0</td>\n",
       "      <td>12.0</td>\n",
       "      <td>70</td>\n",
       "      <td>1</td>\n",
       "      <td>amc rebel sst</td>\n",
       "    </tr>\n",
       "    <tr>\n",
       "      <th>4</th>\n",
       "      <td>17.0</td>\n",
       "      <td>8</td>\n",
       "      <td>302.0</td>\n",
       "      <td>140.0</td>\n",
       "      <td>3449.0</td>\n",
       "      <td>10.5</td>\n",
       "      <td>70</td>\n",
       "      <td>1</td>\n",
       "      <td>ford torino</td>\n",
       "    </tr>\n",
       "    <tr>\n",
       "      <th>...</th>\n",
       "      <td>...</td>\n",
       "      <td>...</td>\n",
       "      <td>...</td>\n",
       "      <td>...</td>\n",
       "      <td>...</td>\n",
       "      <td>...</td>\n",
       "      <td>...</td>\n",
       "      <td>...</td>\n",
       "      <td>...</td>\n",
       "    </tr>\n",
       "    <tr>\n",
       "      <th>393</th>\n",
       "      <td>27.0</td>\n",
       "      <td>4</td>\n",
       "      <td>140.0</td>\n",
       "      <td>86.00</td>\n",
       "      <td>2790.0</td>\n",
       "      <td>15.6</td>\n",
       "      <td>82</td>\n",
       "      <td>1</td>\n",
       "      <td>ford mustang gl</td>\n",
       "    </tr>\n",
       "    <tr>\n",
       "      <th>394</th>\n",
       "      <td>44.0</td>\n",
       "      <td>4</td>\n",
       "      <td>97.0</td>\n",
       "      <td>52.00</td>\n",
       "      <td>2130.0</td>\n",
       "      <td>24.6</td>\n",
       "      <td>82</td>\n",
       "      <td>2</td>\n",
       "      <td>vw pickup</td>\n",
       "    </tr>\n",
       "    <tr>\n",
       "      <th>395</th>\n",
       "      <td>32.0</td>\n",
       "      <td>4</td>\n",
       "      <td>135.0</td>\n",
       "      <td>84.00</td>\n",
       "      <td>2295.0</td>\n",
       "      <td>11.6</td>\n",
       "      <td>82</td>\n",
       "      <td>1</td>\n",
       "      <td>dodge rampage</td>\n",
       "    </tr>\n",
       "    <tr>\n",
       "      <th>396</th>\n",
       "      <td>28.0</td>\n",
       "      <td>4</td>\n",
       "      <td>120.0</td>\n",
       "      <td>79.00</td>\n",
       "      <td>2625.0</td>\n",
       "      <td>18.6</td>\n",
       "      <td>82</td>\n",
       "      <td>1</td>\n",
       "      <td>ford ranger</td>\n",
       "    </tr>\n",
       "    <tr>\n",
       "      <th>397</th>\n",
       "      <td>31.0</td>\n",
       "      <td>4</td>\n",
       "      <td>119.0</td>\n",
       "      <td>82.00</td>\n",
       "      <td>2720.0</td>\n",
       "      <td>19.4</td>\n",
       "      <td>82</td>\n",
       "      <td>1</td>\n",
       "      <td>chevy s-10</td>\n",
       "    </tr>\n",
       "  </tbody>\n",
       "</table>\n",
       "<p>398 rows × 9 columns</p>\n",
       "</div>"
      ],
      "text/plain": [
       "      mpg  cylinders  displacement horsepower  weight  acceleration  year  \\\n",
       "0    18.0          8         307.0      130.0  3504.0          12.0    70   \n",
       "1    15.0          8         350.0      165.0  3693.0          11.5    70   \n",
       "2    18.0          8         318.0      150.0  3436.0          11.0    70   \n",
       "3    16.0          8         304.0      150.0  3433.0          12.0    70   \n",
       "4    17.0          8         302.0      140.0  3449.0          10.5    70   \n",
       "..    ...        ...           ...        ...     ...           ...   ...   \n",
       "393  27.0          4         140.0      86.00  2790.0          15.6    82   \n",
       "394  44.0          4          97.0      52.00  2130.0          24.6    82   \n",
       "395  32.0          4         135.0      84.00  2295.0          11.6    82   \n",
       "396  28.0          4         120.0      79.00  2625.0          18.6    82   \n",
       "397  31.0          4         119.0      82.00  2720.0          19.4    82   \n",
       "\n",
       "     origin                       name  \n",
       "0         1  chevrolet chevelle malibu  \n",
       "1         1          buick skylark 320  \n",
       "2         1         plymouth satellite  \n",
       "3         1              amc rebel sst  \n",
       "4         1                ford torino  \n",
       "..      ...                        ...  \n",
       "393       1            ford mustang gl  \n",
       "394       2                  vw pickup  \n",
       "395       1              dodge rampage  \n",
       "396       1                ford ranger  \n",
       "397       1                 chevy s-10  \n",
       "\n",
       "[398 rows x 9 columns]"
      ]
     },
     "execution_count": 335,
     "metadata": {},
     "output_type": "execute_result"
    }
   ],
   "source": [
    "mtcars = data = pd.read_csv('https://archive.ics.uci.edu/ml/machine-learning-databases/auto-mpg/auto-mpg.data',\n",
    "                            header=None,\n",
    "                            sep='\\s+')\n",
    "\n",
    "mtcars.columns = [  \"mpg\",  \n",
    "                    \"cylinders\",  \n",
    "                    \"displacement\",  \n",
    "                    \"horsepower\",  \n",
    "                    \"weight\",  \n",
    "                    \"acceleration\",\n",
    "                    \"year\",  \n",
    "                    \"origin\",  \n",
    "                    \"name\"]\n",
    "mtcars"
   ]
  },
  {
   "cell_type": "code",
   "execution_count": 248,
   "id": "6f287166",
   "metadata": {},
   "outputs": [],
   "source": [
    "tmp = mtcars.iloc[:,:-2]\n",
    "tmp['horsepower'] = tmp['horsepower'].replace('?',np.nan).astype(float)\n",
    "tmp.dropna(inplace=True)"
   ]
  },
  {
   "cell_type": "code",
   "execution_count": 249,
   "id": "e669ecae",
   "metadata": {},
   "outputs": [
    {
     "data": {
      "text/plain": [
       "<AxesSubplot:>"
      ]
     },
     "execution_count": 249,
     "metadata": {},
     "output_type": "execute_result"
    },
    {
     "data": {
      "image/png": "[encoded data removed]",
      "text/plain": [
       "<Figure size 864x432 with 2 Axes>"
      ]
     },
     "metadata": {
      "needs_background": "light"
     },
     "output_type": "display_data"
    }
   ],
   "source": [
    "cor = np.corrcoef(tmp.transpose())\n",
    "sns.heatmap(cor,cmap='PiYG')"
   ]
  },
  {
   "cell_type": "code",
   "execution_count": null,
   "id": "255978b9",
   "metadata": {},
   "outputs": [],
   "source": [
    "\"mpg\",  \n",
    "                    \"cylinders\",  \n",
    "                    \"displacement\",  \n",
    "                    \"horsepower\",  \n",
    "                    \"weight\",  \n",
    "                    \"acceleration\",\n",
    "                    \"year\",  \n",
    "                    \"origin\",  \n",
    "                    \"name\""
   ]
  },
  {
   "cell_type": "code",
   "execution_count": 347,
   "id": "5246a8e0",
   "metadata": {},
   "outputs": [
    {
     "data": {
      "text/html": [
       "<table class=\"simpletable\">\n",
       "<caption>OLS Regression Results</caption>\n",
       "<tr>\n",
       "  <th>Dep. Variable:</th>           <td>mpg</td>       <th>  R-squared:         </th> <td>   0.809</td> \n",
       "</tr>\n",
       "<tr>\n",
       "  <th>Model:</th>                   <td>OLS</td>       <th>  Adj. R-squared:    </th> <td>   0.806</td> \n",
       "</tr>\n",
       "<tr>\n",
       "  <th>Method:</th>             <td>Least Squares</td>  <th>  F-statistic:       </th> <td>   272.2</td> \n",
       "</tr>\n",
       "<tr>\n",
       "  <th>Date:</th>             <td>Tue, 22 Mar 2022</td> <th>  Prob (F-statistic):</th> <td>3.79e-135</td>\n",
       "</tr>\n",
       "<tr>\n",
       "  <th>Time:</th>                 <td>14:55:40</td>     <th>  Log-Likelihood:    </th> <td> -1036.5</td> \n",
       "</tr>\n",
       "<tr>\n",
       "  <th>No. Observations:</th>      <td>   392</td>      <th>  AIC:               </th> <td>   2087.</td> \n",
       "</tr>\n",
       "<tr>\n",
       "  <th>Df Residuals:</th>          <td>   385</td>      <th>  BIC:               </th> <td>   2115.</td> \n",
       "</tr>\n",
       "<tr>\n",
       "  <th>Df Model:</th>              <td>     6</td>      <th>                     </th>     <td> </td>    \n",
       "</tr>\n",
       "<tr>\n",
       "  <th>Covariance Type:</th>      <td>nonrobust</td>    <th>                     </th>     <td> </td>    \n",
       "</tr>\n",
       "</table>\n",
       "<table class=\"simpletable\">\n",
       "<tr>\n",
       "        <td></td>          <th>coef</th>     <th>std err</th>      <th>t</th>      <th>P>|t|</th>  <th>[0.025</th>    <th>0.975]</th>  \n",
       "</tr>\n",
       "<tr>\n",
       "  <th>Intercept</th>    <td>  -14.5353</td> <td>    4.764</td> <td>   -3.051</td> <td> 0.002</td> <td>  -23.902</td> <td>   -5.169</td>\n",
       "</tr>\n",
       "<tr>\n",
       "  <th>weight</th>       <td>   -0.0068</td> <td>    0.001</td> <td>  -10.141</td> <td> 0.000</td> <td>   -0.008</td> <td>   -0.005</td>\n",
       "</tr>\n",
       "<tr>\n",
       "  <th>year</th>         <td>    0.7534</td> <td>    0.053</td> <td>   14.318</td> <td> 0.000</td> <td>    0.650</td> <td>    0.857</td>\n",
       "</tr>\n",
       "<tr>\n",
       "  <th>displacement</th> <td>    0.0077</td> <td>    0.007</td> <td>    1.044</td> <td> 0.297</td> <td>   -0.007</td> <td>    0.022</td>\n",
       "</tr>\n",
       "<tr>\n",
       "  <th>horsepower</th>   <td>   -0.0004</td> <td>    0.014</td> <td>   -0.028</td> <td> 0.977</td> <td>   -0.028</td> <td>    0.027</td>\n",
       "</tr>\n",
       "<tr>\n",
       "  <th>acceleration</th> <td>    0.0853</td> <td>    0.102</td> <td>    0.836</td> <td> 0.404</td> <td>   -0.115</td> <td>    0.286</td>\n",
       "</tr>\n",
       "<tr>\n",
       "  <th>cylinders</th>    <td>   -0.3299</td> <td>    0.332</td> <td>   -0.993</td> <td> 0.321</td> <td>   -0.983</td> <td>    0.323</td>\n",
       "</tr>\n",
       "</table>\n",
       "<table class=\"simpletable\">\n",
       "<tr>\n",
       "  <th>Omnibus:</th>       <td>37.865</td> <th>  Durbin-Watson:     </th> <td>   1.232</td>\n",
       "</tr>\n",
       "<tr>\n",
       "  <th>Prob(Omnibus):</th> <td> 0.000</td> <th>  Jarque-Bera (JB):  </th> <td>  60.248</td>\n",
       "</tr>\n",
       "<tr>\n",
       "  <th>Skew:</th>          <td> 0.630</td> <th>  Prob(JB):          </th> <td>8.26e-14</td>\n",
       "</tr>\n",
       "<tr>\n",
       "  <th>Kurtosis:</th>      <td> 4.449</td> <th>  Cond. No.          </th> <td>8.53e+04</td>\n",
       "</tr>\n",
       "</table><br/><br/>Notes:<br/>[1] Standard Errors assume that the covariance matrix of the errors is correctly specified.<br/>[2] The condition number is large, 8.53e+04. This might indicate that there are<br/>strong multicollinearity or other numerical problems."
      ],
      "text/plain": [
       "<class 'statsmodels.iolib.summary.Summary'>\n",
       "\"\"\"\n",
       "                            OLS Regression Results                            \n",
       "==============================================================================\n",
       "Dep. Variable:                    mpg   R-squared:                       0.809\n",
       "Model:                            OLS   Adj. R-squared:                  0.806\n",
       "Method:                 Least Squares   F-statistic:                     272.2\n",
       "Date:                Tue, 22 Mar 2022   Prob (F-statistic):          3.79e-135\n",
       "Time:                        14:55:40   Log-Likelihood:                -1036.5\n",
       "No. Observations:                 392   AIC:                             2087.\n",
       "Df Residuals:                     385   BIC:                             2115.\n",
       "Df Model:                           6                                         \n",
       "Covariance Type:            nonrobust                                         \n",
       "================================================================================\n",
       "                   coef    std err          t      P>|t|      [0.025      0.975]\n",
       "--------------------------------------------------------------------------------\n",
       "Intercept      -14.5353      4.764     -3.051      0.002     -23.902      -5.169\n",
       "weight          -0.0068      0.001    -10.141      0.000      -0.008      -0.005\n",
       "year             0.7534      0.053     14.318      0.000       0.650       0.857\n",
       "displacement     0.0077      0.007      1.044      0.297      -0.007       0.022\n",
       "horsepower      -0.0004      0.014     -0.028      0.977      -0.028       0.027\n",
       "acceleration     0.0853      0.102      0.836      0.404      -0.115       0.286\n",
       "cylinders       -0.3299      0.332     -0.993      0.321      -0.983       0.323\n",
       "==============================================================================\n",
       "Omnibus:                       37.865   Durbin-Watson:                   1.232\n",
       "Prob(Omnibus):                  0.000   Jarque-Bera (JB):               60.248\n",
       "Skew:                           0.630   Prob(JB):                     8.26e-14\n",
       "Kurtosis:                       4.449   Cond. No.                     8.53e+04\n",
       "==============================================================================\n",
       "\n",
       "Notes:\n",
       "[1] Standard Errors assume that the covariance matrix of the errors is correctly specified.\n",
       "[2] The condition number is large, 8.53e+04. This might indicate that there are\n",
       "strong multicollinearity or other numerical problems.\n",
       "\"\"\""
      ]
     },
     "execution_count": 347,
     "metadata": {},
     "output_type": "execute_result"
    }
   ],
   "source": [
    "model = ols(\"mpg ~ weight + year + displacement + horsepower + acceleration + cylinders\", data=tmp).fit()\n",
    "model.summary()"
   ]
  },
  {
   "cell_type": "code",
   "execution_count": 348,
   "id": "8e2c347c",
   "metadata": {},
   "outputs": [
    {
     "data": {
      "text/html": [
       "<div>\n",
       "<style scoped>\n",
       "    .dataframe tbody tr th:only-of-type {\n",
       "        vertical-align: middle;\n",
       "    }\n",
       "\n",
       "    .dataframe tbody tr th {\n",
       "        vertical-align: top;\n",
       "    }\n",
       "\n",
       "    .dataframe thead th {\n",
       "        text-align: right;\n",
       "    }\n",
       "</style>\n",
       "<table border=\"1\" class=\"dataframe\">\n",
       "  <thead>\n",
       "    <tr style=\"text-align: right;\">\n",
       "      <th></th>\n",
       "      <th>df</th>\n",
       "      <th>sum_sq</th>\n",
       "      <th>mean_sq</th>\n",
       "      <th>F</th>\n",
       "      <th>PR(&gt;F)</th>\n",
       "    </tr>\n",
       "  </thead>\n",
       "  <tbody>\n",
       "    <tr>\n",
       "      <th>weight</th>\n",
       "      <td>1.0</td>\n",
       "      <td>16497.759763</td>\n",
       "      <td>16497.759763</td>\n",
       "      <td>1398.008445</td>\n",
       "      <td>3.277947e-130</td>\n",
       "    </tr>\n",
       "    <tr>\n",
       "      <th>year</th>\n",
       "      <td>1.0</td>\n",
       "      <td>2752.281665</td>\n",
       "      <td>2752.281665</td>\n",
       "      <td>233.226393</td>\n",
       "      <td>1.675205e-41</td>\n",
       "    </tr>\n",
       "    <tr>\n",
       "      <th>displacement</th>\n",
       "      <td>1.0</td>\n",
       "      <td>0.042045</td>\n",
       "      <td>0.042045</td>\n",
       "      <td>0.003563</td>\n",
       "      <td>9.524336e-01</td>\n",
       "    </tr>\n",
       "    <tr>\n",
       "      <th>horsepower</th>\n",
       "      <td>1.0</td>\n",
       "      <td>4.650772</td>\n",
       "      <td>4.650772</td>\n",
       "      <td>0.394103</td>\n",
       "      <td>5.305227e-01</td>\n",
       "    </tr>\n",
       "    <tr>\n",
       "      <th>acceleration</th>\n",
       "      <td>1.0</td>\n",
       "      <td>9.270309</td>\n",
       "      <td>9.270309</td>\n",
       "      <td>0.785559</td>\n",
       "      <td>3.759995e-01</td>\n",
       "    </tr>\n",
       "    <tr>\n",
       "      <th>cylinders</th>\n",
       "      <td>1.0</td>\n",
       "      <td>11.641891</td>\n",
       "      <td>11.641891</td>\n",
       "      <td>0.986526</td>\n",
       "      <td>3.212169e-01</td>\n",
       "    </tr>\n",
       "    <tr>\n",
       "      <th>Residual</th>\n",
       "      <td>385.0</td>\n",
       "      <td>4543.347025</td>\n",
       "      <td>11.800901</td>\n",
       "      <td>NaN</td>\n",
       "      <td>NaN</td>\n",
       "    </tr>\n",
       "  </tbody>\n",
       "</table>\n",
       "</div>"
      ],
      "text/plain": [
       "                 df        sum_sq       mean_sq            F         PR(>F)\n",
       "weight          1.0  16497.759763  16497.759763  1398.008445  3.277947e-130\n",
       "year            1.0   2752.281665   2752.281665   233.226393   1.675205e-41\n",
       "displacement    1.0      0.042045      0.042045     0.003563   9.524336e-01\n",
       "horsepower      1.0      4.650772      4.650772     0.394103   5.305227e-01\n",
       "acceleration    1.0      9.270309      9.270309     0.785559   3.759995e-01\n",
       "cylinders       1.0     11.641891     11.641891     0.986526   3.212169e-01\n",
       "Residual      385.0   4543.347025     11.800901          NaN            NaN"
      ]
     },
     "execution_count": 348,
     "metadata": {},
     "output_type": "execute_result"
    }
   ],
   "source": [
    "anova_lm(model)"
   ]
  },
  {
   "cell_type": "code",
   "execution_count": 343,
   "id": "b837c110",
   "metadata": {},
   "outputs": [
    {
     "data": {
      "text/html": [
       "<table class=\"simpletable\">\n",
       "<caption>OLS Regression Results</caption>\n",
       "<tr>\n",
       "  <th>Dep. Variable:</th>           <td>mpg</td>       <th>  R-squared:         </th> <td>   0.808</td> \n",
       "</tr>\n",
       "<tr>\n",
       "  <th>Model:</th>                   <td>OLS</td>       <th>  Adj. R-squared:    </th> <td>   0.807</td> \n",
       "</tr>\n",
       "<tr>\n",
       "  <th>Method:</th>             <td>Least Squares</td>  <th>  F-statistic:       </th> <td>   545.6</td> \n",
       "</tr>\n",
       "<tr>\n",
       "  <th>Date:</th>             <td>Tue, 22 Mar 2022</td> <th>  Prob (F-statistic):</th> <td>8.73e-139</td>\n",
       "</tr>\n",
       "<tr>\n",
       "  <th>Time:</th>                 <td>14:53:15</td>     <th>  Log-Likelihood:    </th> <td> -1037.3</td> \n",
       "</tr>\n",
       "<tr>\n",
       "  <th>No. Observations:</th>      <td>   392</td>      <th>  AIC:               </th> <td>   2083.</td> \n",
       "</tr>\n",
       "<tr>\n",
       "  <th>Df Residuals:</th>          <td>   388</td>      <th>  BIC:               </th> <td>   2099.</td> \n",
       "</tr>\n",
       "<tr>\n",
       "  <th>Df Model:</th>              <td>     3</td>      <th>                     </th>     <td> </td>    \n",
       "</tr>\n",
       "<tr>\n",
       "  <th>Covariance Type:</th>      <td>nonrobust</td>    <th>                     </th>     <td> </td>    \n",
       "</tr>\n",
       "</table>\n",
       "<table class=\"simpletable\">\n",
       "<tr>\n",
       "      <td></td>         <th>coef</th>     <th>std err</th>      <th>t</th>      <th>P>|t|</th>  <th>[0.025</th>    <th>0.975]</th>  \n",
       "</tr>\n",
       "<tr>\n",
       "  <th>Intercept</th> <td>  -13.9076</td> <td>    4.066</td> <td>   -3.420</td> <td> 0.001</td> <td>  -21.902</td> <td>   -5.913</td>\n",
       "</tr>\n",
       "<tr>\n",
       "  <th>year</th>      <td>    0.7520</td> <td>    0.050</td> <td>   14.987</td> <td> 0.000</td> <td>    0.653</td> <td>    0.851</td>\n",
       "</tr>\n",
       "<tr>\n",
       "  <th>weight</th>    <td>   -0.0064</td> <td>    0.000</td> <td>  -13.746</td> <td> 0.000</td> <td>   -0.007</td> <td>   -0.005</td>\n",
       "</tr>\n",
       "<tr>\n",
       "  <th>cylinders</th> <td>   -0.1517</td> <td>    0.234</td> <td>   -0.649</td> <td> 0.517</td> <td>   -0.611</td> <td>    0.308</td>\n",
       "</tr>\n",
       "</table>\n",
       "<table class=\"simpletable\">\n",
       "<tr>\n",
       "  <th>Omnibus:</th>       <td>43.326</td> <th>  Durbin-Watson:     </th> <td>   1.231</td>\n",
       "</tr>\n",
       "<tr>\n",
       "  <th>Prob(Omnibus):</th> <td> 0.000</td> <th>  Jarque-Bera (JB):  </th> <td>  74.042</td>\n",
       "</tr>\n",
       "<tr>\n",
       "  <th>Skew:</th>          <td> 0.678</td> <th>  Prob(JB):          </th> <td>8.35e-17</td>\n",
       "</tr>\n",
       "<tr>\n",
       "  <th>Kurtosis:</th>      <td> 4.642</td> <th>  Cond. No.          </th> <td>7.27e+04</td>\n",
       "</tr>\n",
       "</table><br/><br/>Notes:<br/>[1] Standard Errors assume that the covariance matrix of the errors is correctly specified.<br/>[2] The condition number is large, 7.27e+04. This might indicate that there are<br/>strong multicollinearity or other numerical problems."
      ],
      "text/plain": [
       "<class 'statsmodels.iolib.summary.Summary'>\n",
       "\"\"\"\n",
       "                            OLS Regression Results                            \n",
       "==============================================================================\n",
       "Dep. Variable:                    mpg   R-squared:                       0.808\n",
       "Model:                            OLS   Adj. R-squared:                  0.807\n",
       "Method:                 Least Squares   F-statistic:                     545.6\n",
       "Date:                Tue, 22 Mar 2022   Prob (F-statistic):          8.73e-139\n",
       "Time:                        14:53:15   Log-Likelihood:                -1037.3\n",
       "No. Observations:                 392   AIC:                             2083.\n",
       "Df Residuals:                     388   BIC:                             2099.\n",
       "Df Model:                           3                                         \n",
       "Covariance Type:            nonrobust                                         \n",
       "==============================================================================\n",
       "                 coef    std err          t      P>|t|      [0.025      0.975]\n",
       "------------------------------------------------------------------------------\n",
       "Intercept    -13.9076      4.066     -3.420      0.001     -21.902      -5.913\n",
       "year           0.7520      0.050     14.987      0.000       0.653       0.851\n",
       "weight        -0.0064      0.000    -13.746      0.000      -0.007      -0.005\n",
       "cylinders     -0.1517      0.234     -0.649      0.517      -0.611       0.308\n",
       "==============================================================================\n",
       "Omnibus:                       43.326   Durbin-Watson:                   1.231\n",
       "Prob(Omnibus):                  0.000   Jarque-Bera (JB):               74.042\n",
       "Skew:                           0.678   Prob(JB):                     8.35e-17\n",
       "Kurtosis:                       4.642   Cond. No.                     7.27e+04\n",
       "==============================================================================\n",
       "\n",
       "Notes:\n",
       "[1] Standard Errors assume that the covariance matrix of the errors is correctly specified.\n",
       "[2] The condition number is large, 7.27e+04. This might indicate that there are\n",
       "strong multicollinearity or other numerical problems.\n",
       "\"\"\""
      ]
     },
     "execution_count": 343,
     "metadata": {},
     "output_type": "execute_result"
    }
   ],
   "source": [
    "model = ols(\"mpg ~ year + weight + cylinders\", data=tmp).fit()\n",
    "model.summary()"
   ]
  },
  {
   "cell_type": "code",
   "execution_count": 344,
   "id": "549a012f",
   "metadata": {},
   "outputs": [
    {
     "data": {
      "text/html": [
       "<div>\n",
       "<style scoped>\n",
       "    .dataframe tbody tr th:only-of-type {\n",
       "        vertical-align: middle;\n",
       "    }\n",
       "\n",
       "    .dataframe tbody tr th {\n",
       "        vertical-align: top;\n",
       "    }\n",
       "\n",
       "    .dataframe thead th {\n",
       "        text-align: right;\n",
       "    }\n",
       "</style>\n",
       "<table border=\"1\" class=\"dataframe\">\n",
       "  <thead>\n",
       "    <tr style=\"text-align: right;\">\n",
       "      <th></th>\n",
       "      <th>df</th>\n",
       "      <th>sum_sq</th>\n",
       "      <th>mean_sq</th>\n",
       "      <th>F</th>\n",
       "      <th>PR(&gt;F)</th>\n",
       "    </tr>\n",
       "  </thead>\n",
       "  <tbody>\n",
       "    <tr>\n",
       "      <th>year</th>\n",
       "      <td>1.0</td>\n",
       "      <td>8027.663284</td>\n",
       "      <td>8027.663284</td>\n",
       "      <td>682.457820</td>\n",
       "      <td>1.589354e-87</td>\n",
       "    </tr>\n",
       "    <tr>\n",
       "      <th>weight</th>\n",
       "      <td>1.0</td>\n",
       "      <td>11222.378144</td>\n",
       "      <td>11222.378144</td>\n",
       "      <td>954.050943</td>\n",
       "      <td>1.339861e-106</td>\n",
       "    </tr>\n",
       "    <tr>\n",
       "      <th>cylinders</th>\n",
       "      <td>1.0</td>\n",
       "      <td>4.958104</td>\n",
       "      <td>4.958104</td>\n",
       "      <td>0.421505</td>\n",
       "      <td>5.165714e-01</td>\n",
       "    </tr>\n",
       "    <tr>\n",
       "      <th>Residual</th>\n",
       "      <td>388.0</td>\n",
       "      <td>4563.993938</td>\n",
       "      <td>11.762871</td>\n",
       "      <td>NaN</td>\n",
       "      <td>NaN</td>\n",
       "    </tr>\n",
       "  </tbody>\n",
       "</table>\n",
       "</div>"
      ],
      "text/plain": [
       "              df        sum_sq       mean_sq           F         PR(>F)\n",
       "year         1.0   8027.663284   8027.663284  682.457820   1.589354e-87\n",
       "weight       1.0  11222.378144  11222.378144  954.050943  1.339861e-106\n",
       "cylinders    1.0      4.958104      4.958104    0.421505   5.165714e-01\n",
       "Residual   388.0   4563.993938     11.762871         NaN            NaN"
      ]
     },
     "execution_count": 344,
     "metadata": {},
     "output_type": "execute_result"
    }
   ],
   "source": [
    "anova_lm(model)"
   ]
  },
  {
   "cell_type": "code",
   "execution_count": 278,
   "id": "f15bceb9",
   "metadata": {},
   "outputs": [
    {
     "data": {
      "text/plain": [
       "Index(['mpg', 'cylinders', 'displacement', 'horsepower', 'weight',\n",
       "       'acceleration', 'year'],\n",
       "      dtype='object')"
      ]
     },
     "execution_count": 278,
     "metadata": {},
     "output_type": "execute_result"
    }
   ],
   "source": [
    "tmp.columns"
   ]
  },
  {
   "cell_type": "code",
   "execution_count": null,
   "id": "eb769ff2",
   "metadata": {},
   "outputs": [],
   "source": []
  }
 ],
 "metadata": {
  "kernelspec": {
   "display_name": "Python 3 (ipykernel)",
   "language": "python",
   "name": "python3"
  },
  "language_info": {
   "codemirror_mode": {
    "name": "ipython",
    "version": 3
   },
   "file_extension": ".py",
   "mimetype": "text/x-python",
   "name": "python",
   "nbconvert_exporter": "python",
   "pygments_lexer": "ipython3",
   "version": "3.10.2"
  }
 },
 "nbformat": 4,
 "nbformat_minor": 5
}
