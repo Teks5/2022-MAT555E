{
 "cells": [
  {
   "cell_type": "markdown",
   "id": "0ecd10f7",
   "metadata": {},
   "source": [
    "# Question 1\n",
    "\n",
    "Write a python function that takes 4 arguments `a`, `b`, `N` and `fn` where \n",
    "\n",
    "* `a` and `b` determine an interval in $\\mathbb{R}$ \n",
    "* `N` is a positive integer and \n",
    "* `fn` is a real valued function\n",
    "\n",
    "The function you write should calculate the Riemann sum of the function `fn` over the interval [`a`,`b`] with `N` equal subintervals."
   ]
  },
  {
   "cell_type": "code",
   "execution_count": null,
   "id": "2d6f52ba",
   "metadata": {},
   "outputs": [],
   "source": []
  },
  {
   "cell_type": "markdown",
   "id": "2ddb57b9",
   "metadata": {},
   "source": [
    "# Question 2\n",
    "\n",
    "We want to sample random samples from the unit circle $x^2+y^2=1$. Write a python function which takes one parameter $N$ the number of sample points and returns a sample $N$ points on the unit circle as a $N\\times 2$ numpy matrix. Calculate some examples, and visualize them."
   ]
  },
  {
   "cell_type": "code",
   "execution_count": null,
   "id": "2449c6a5",
   "metadata": {},
   "outputs": [],
   "source": []
  },
  {
   "cell_type": "markdown",
   "id": "b621645d",
   "metadata": {},
   "source": [
    "# Question 3\n",
    "\n",
    "Generalize the function above to sampling over the unit sphere $x^2+y^2+z^2=1$. The function should return a $N\\times 3$ numpy array.  Calculate some examples, and visualize them. [Hint: Use spherical coordinates.]"
   ]
  },
  {
   "cell_type": "code",
   "execution_count": null,
   "id": "3d6344c1",
   "metadata": {},
   "outputs": [],
   "source": []
  },
  {
   "cell_type": "markdown",
   "id": "c353d543",
   "metadata": {},
   "source": [
    "# Question 4\n",
    "\n",
    "How can we generalize this to sampling over an $n$-dimensional sphere $x_1^2+\\cdots+x_n^2=1$? Write a python function and explain your code."
   ]
  },
  {
   "cell_type": "code",
   "execution_count": null,
   "id": "188ae40f",
   "metadata": {},
   "outputs": [],
   "source": []
  },
  {
   "cell_type": "markdown",
   "id": "d5dd4dff",
   "metadata": {},
   "source": [
    "# Question 5\n",
    "\n",
    "Istanbul Municipality has a [data service](https://data.ibb.gov.tr/) that is accessible via an API. Your task is to visualize the stops. Use the [Basemap](https://matplotlib.org/basemap/) library to draw the map.  Their locations (longitudes and latitudes) are given at this [link](https://data.ibb.gov.tr/dataset/public-transport-gtfs-data/resource/d1f7c258-bbc1-406f-9ab2-7a7c1797c673). Here is a list of things I'd like:\n",
    "\n",
    "1. You should pull the data via the API. I don't want to see the file locally.\n",
    "2. In the visualization, the size of the dot representing each stop should depend on the number of people using it.\n",
    "\n",
    "For the second part, browse through the data server and find the relevant data source."
   ]
  },
  {
   "cell_type": "code",
   "execution_count": null,
   "id": "9512c1ad",
   "metadata": {},
   "outputs": [],
   "source": []
  }
 ],
 "metadata": {
  "kernelspec": {
   "display_name": "Python 3 (ipykernel)",
   "language": "python",
   "name": "python3"
  },
  "language_info": {
   "codemirror_mode": {
    "name": "ipython",
    "version": 3
   },
   "file_extension": ".py",
   "mimetype": "text/x-python",
   "name": "python",
   "nbconvert_exporter": "python",
   "pygments_lexer": "ipython3",
   "version": "3.10.2"
  }
 },
 "nbformat": 4,
 "nbformat_minor": 5
}
