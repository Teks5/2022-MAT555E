{
 "cells": [
  {
   "cell_type": "code",
   "execution_count": 1,
   "id": "f234168a",
   "metadata": {},
   "outputs": [
    {
     "name": "stderr",
     "output_type": "stream",
     "text": [
      "2022-05-10 14:10:42.413477: W tensorflow/stream_executor/platform/default/dso_loader.cc:64] Could not load dynamic library 'libcudart.so.11.0'; dlerror: libcudart.so.11.0: cannot open shared object file: No such file or directory; LD_LIBRARY_PATH: /home/kaygun/local/lib\n",
      "2022-05-10 14:10:42.413536: I tensorflow/stream_executor/cuda/cudart_stub.cc:29] Ignore above cudart dlerror if you do not have a GPU set up on your machine.\n"
     ]
    }
   ],
   "source": [
    "import numpy as np\n",
    "import pandas as pd\n",
    "import tensorflow as tf\n",
    "import keras as ks\n",
    "\n",
    "from sklearn.datasets import load_iris, load_digits, fetch_20newsgroups_vectorized\n",
    "from sklearn.preprocessing import LabelBinarizer\n",
    "from sklearn.model_selection import train_test_split\n",
    "from sklearn.metrics import accuracy_score, confusion_matrix\n",
    "\n",
    "from keras.datasets import mnist, fashion_mnist\n",
    "from keras.layers import Dense, Conv2D, Dropout, Flatten, MaxPooling2D, LSTM, Embedding\n",
    "from keras.utils import np_utils\n",
    "\n",
    "import matplotlib.pyplot as plt"
   ]
  },
  {
   "cell_type": "markdown",
   "id": "9602927d",
   "metadata": {},
   "source": [
    "# Standard Neural Network"
   ]
  },
  {
   "cell_type": "code",
   "execution_count": 2,
   "id": "6a9ea851",
   "metadata": {},
   "outputs": [],
   "source": [
    "iris = load_iris()\n",
    "x_iris = iris['data']\n",
    "y_iris = iris['target']\n",
    "\n",
    "labeler = LabelBinarizer()\n",
    "y = labeler.fit_transform(y_iris)\n",
    "\n",
    "x_train, x_test, y_train, y_test = train_test_split(x_iris, y)"
   ]
  },
  {
   "cell_type": "code",
   "execution_count": 3,
   "id": "77135560",
   "metadata": {},
   "outputs": [
    {
     "data": {
      "text/plain": [
       "array([[0, 0, 1],\n",
       "       [1, 0, 0],\n",
       "       [1, 0, 0],\n",
       "       [0, 0, 1],\n",
       "       [0, 0, 1],\n",
       "       [1, 0, 0],\n",
       "       [1, 0, 0],\n",
       "       [1, 0, 0],\n",
       "       [0, 0, 1],\n",
       "       [0, 0, 1],\n",
       "       [0, 1, 0],\n",
       "       [0, 0, 1],\n",
       "       [0, 1, 0],\n",
       "       [1, 0, 0],\n",
       "       [0, 0, 1],\n",
       "       [0, 1, 0],\n",
       "       [0, 1, 0],\n",
       "       [0, 0, 1],\n",
       "       [0, 1, 0],\n",
       "       [0, 1, 0],\n",
       "       [0, 1, 0],\n",
       "       [0, 1, 0],\n",
       "       [1, 0, 0],\n",
       "       [1, 0, 0],\n",
       "       [1, 0, 0],\n",
       "       [0, 0, 1],\n",
       "       [0, 1, 0],\n",
       "       [0, 1, 0],\n",
       "       [0, 0, 1],\n",
       "       [1, 0, 0],\n",
       "       [1, 0, 0],\n",
       "       [1, 0, 0],\n",
       "       [1, 0, 0],\n",
       "       [1, 0, 0],\n",
       "       [1, 0, 0],\n",
       "       [0, 1, 0],\n",
       "       [1, 0, 0],\n",
       "       [0, 1, 0],\n",
       "       [1, 0, 0],\n",
       "       [0, 0, 1],\n",
       "       [0, 0, 1],\n",
       "       [1, 0, 0],\n",
       "       [1, 0, 0],\n",
       "       [0, 1, 0],\n",
       "       [0, 1, 0],\n",
       "       [0, 1, 0],\n",
       "       [0, 1, 0],\n",
       "       [1, 0, 0],\n",
       "       [0, 1, 0],\n",
       "       [1, 0, 0],\n",
       "       [0, 1, 0],\n",
       "       [0, 0, 1],\n",
       "       [0, 0, 1],\n",
       "       [0, 1, 0],\n",
       "       [0, 1, 0],\n",
       "       [0, 1, 0],\n",
       "       [0, 0, 1],\n",
       "       [1, 0, 0],\n",
       "       [0, 0, 1],\n",
       "       [0, 1, 0],\n",
       "       [0, 1, 0],\n",
       "       [0, 0, 1],\n",
       "       [0, 0, 1],\n",
       "       [0, 0, 1],\n",
       "       [0, 1, 0],\n",
       "       [0, 0, 1],\n",
       "       [0, 0, 1],\n",
       "       [0, 0, 1],\n",
       "       [1, 0, 0],\n",
       "       [0, 0, 1],\n",
       "       [1, 0, 0],\n",
       "       [1, 0, 0],\n",
       "       [0, 1, 0],\n",
       "       [0, 0, 1],\n",
       "       [0, 1, 0],\n",
       "       [1, 0, 0],\n",
       "       [0, 0, 1],\n",
       "       [0, 0, 1],\n",
       "       [0, 0, 1],\n",
       "       [0, 1, 0],\n",
       "       [1, 0, 0],\n",
       "       [0, 0, 1],\n",
       "       [1, 0, 0],\n",
       "       [0, 0, 1],\n",
       "       [0, 1, 0],\n",
       "       [1, 0, 0],\n",
       "       [1, 0, 0],\n",
       "       [0, 0, 1],\n",
       "       [1, 0, 0],\n",
       "       [0, 0, 1],\n",
       "       [1, 0, 0],\n",
       "       [0, 1, 0],\n",
       "       [0, 1, 0],\n",
       "       [1, 0, 0],\n",
       "       [1, 0, 0],\n",
       "       [0, 0, 1],\n",
       "       [0, 1, 0],\n",
       "       [0, 0, 1],\n",
       "       [0, 1, 0],\n",
       "       [1, 0, 0],\n",
       "       [0, 0, 1],\n",
       "       [0, 1, 0],\n",
       "       [0, 1, 0],\n",
       "       [1, 0, 0],\n",
       "       [0, 1, 0],\n",
       "       [0, 0, 1],\n",
       "       [0, 1, 0],\n",
       "       [1, 0, 0],\n",
       "       [0, 0, 1],\n",
       "       [0, 0, 1],\n",
       "       [0, 1, 0],\n",
       "       [0, 0, 1]])"
      ]
     },
     "execution_count": 3,
     "metadata": {},
     "output_type": "execute_result"
    }
   ],
   "source": [
    "y_train"
   ]
  },
  {
   "cell_type": "code",
   "execution_count": null,
   "id": "a88dcade",
   "metadata": {},
   "outputs": [],
   "source": [
    "model = ks.models.Sequential()\n",
    "\n",
    "model.add(ks.layers.Dense(64, activation='relu', input_dim=4))\n",
    "model.add(ks.layers.Dense(3,activation='sigmoid'))"
   ]
  },
  {
   "cell_type": "code",
   "execution_count": 5,
   "id": "443b40c6",
   "metadata": {
    "scrolled": false
   },
   "outputs": [
    {
     "name": "stdout",
     "output_type": "stream",
     "text": [
      "Epoch 1/10\n",
      "2/2 [==============================] - 0s 2ms/step - loss: 0.2363 - binary_accuracy: 0.8810\n",
      "Epoch 2/10\n",
      "2/2 [==============================] - 0s 3ms/step - loss: 0.2355 - binary_accuracy: 0.8810\n",
      "Epoch 3/10\n",
      "2/2 [==============================] - 0s 2ms/step - loss: 0.2360 - binary_accuracy: 0.8720\n",
      "Epoch 4/10\n",
      "2/2 [==============================] - 0s 3ms/step - loss: 0.2369 - binary_accuracy: 0.8839\n",
      "Epoch 5/10\n",
      "2/2 [==============================] - 0s 2ms/step - loss: 0.2379 - binary_accuracy: 0.9018\n",
      "Epoch 6/10\n",
      "2/2 [==============================] - 0s 3ms/step - loss: 0.2378 - binary_accuracy: 0.9077\n",
      "Epoch 7/10\n",
      "2/2 [==============================] - 0s 3ms/step - loss: 0.2360 - binary_accuracy: 0.8988\n",
      "Epoch 8/10\n",
      "2/2 [==============================] - 0s 2ms/step - loss: 0.2344 - binary_accuracy: 0.8869\n",
      "Epoch 9/10\n",
      "2/2 [==============================] - 0s 3ms/step - loss: 0.2327 - binary_accuracy: 0.8810\n",
      "Epoch 10/10\n",
      "2/2 [==============================] - 0s 2ms/step - loss: 0.2321 - binary_accuracy: 0.8810\n"
     ]
    },
    {
     "data": {
      "text/plain": [
       "<keras.callbacks.History at 0x7f7e080f3f10>"
      ]
     },
     "execution_count": 5,
     "metadata": {},
     "output_type": "execute_result"
    }
   ],
   "source": [
    "model.compile(optimizer='adam',\n",
    "              loss='binary_crossentropy',\n",
    "              metrics=['binary_accuracy'])\n",
    "\n",
    "model.fit(x_train,y_train,epochs=10,batch_size=100)"
   ]
  },
  {
   "cell_type": "code",
   "execution_count": 6,
   "id": "4129cd46",
   "metadata": {},
   "outputs": [
    {
     "name": "stdout",
     "output_type": "stream",
     "text": [
      "1.0\n"
     ]
    },
    {
     "data": {
      "text/plain": [
       "array([[13,  0,  0],\n",
       "       [ 0, 13,  0],\n",
       "       [ 0,  0, 12]])"
      ]
     },
     "execution_count": 6,
     "metadata": {},
     "output_type": "execute_result"
    }
   ],
   "source": [
    "y_pred = model.predict(x_test)\n",
    "yy_pred = np.argmax(y_pred,axis=1)\n",
    "yy_test = np.argmax(y_test,axis=1)\n",
    "\n",
    "print(accuracy_score(yy_test,yy_pred))\n",
    "confusion_matrix(yy_test,yy_pred)"
   ]
  },
  {
   "cell_type": "markdown",
   "id": "be74f05c",
   "metadata": {},
   "source": [
    "# Convolutional Neural Networks"
   ]
  },
  {
   "cell_type": "code",
   "execution_count": 7,
   "id": "07704c5c",
   "metadata": {},
   "outputs": [],
   "source": [
    "digits = load_digits()\n",
    "x_digits = digits['data']\n",
    "y_digits = digits['target']"
   ]
  },
  {
   "cell_type": "code",
   "execution_count": 8,
   "id": "e672b05d",
   "metadata": {},
   "outputs": [],
   "source": [
    "labeler = LabelBinarizer()\n",
    "\n",
    "yy_digits = labeler.fit_transform(y_digits)\n",
    "xx_digits = x_digits.reshape(1797,8,8,1)\n",
    "\n",
    "x_train, x_test, y_train, y_test = train_test_split(xx_digits, yy_digits)"
   ]
  },
  {
   "cell_type": "code",
   "execution_count": 9,
   "id": "2c5fc8d7",
   "metadata": {},
   "outputs": [],
   "source": [
    "model = ks.models.Sequential()\n",
    "\n",
    "model.add(Conv2D(64, (3, 2), padding=\"same\", activation='relu', input_shape=(8,8,1)))\n",
    "model.add(MaxPooling2D(pool_size=(2, 2)))\n",
    "model.add(Flatten())\n",
    "model.add(Dense(128, activation = 'relu'))\n",
    "model.add(Dense(10, activation = 'softmax'))"
   ]
  },
  {
   "cell_type": "code",
   "execution_count": 10,
   "id": "89e0d276",
   "metadata": {
    "scrolled": true
   },
   "outputs": [
    {
     "name": "stdout",
     "output_type": "stream",
     "text": [
      "Epoch 1/50\n",
      "22/22 [==============================] - 0s 4ms/step - loss: 0.3030 - binary_accuracy: 0.9151\n",
      "Epoch 2/50\n",
      "22/22 [==============================] - 0s 4ms/step - loss: 0.1120 - binary_accuracy: 0.9747\n",
      "Epoch 3/50\n",
      "22/22 [==============================] - 0s 4ms/step - loss: 0.0697 - binary_accuracy: 0.9863\n",
      "Epoch 4/50\n",
      "22/22 [==============================] - 0s 4ms/step - loss: 0.0484 - binary_accuracy: 0.9924\n",
      "Epoch 5/50\n",
      "22/22 [==============================] - 0s 4ms/step - loss: 0.0410 - binary_accuracy: 0.9930\n",
      "Epoch 6/50\n",
      "22/22 [==============================] - 0s 4ms/step - loss: 0.0355 - binary_accuracy: 0.9939\n",
      "Epoch 7/50\n",
      "22/22 [==============================] - 0s 4ms/step - loss: 0.0286 - binary_accuracy: 0.9962\n",
      "Epoch 8/50\n",
      "22/22 [==============================] - 0s 4ms/step - loss: 0.0233 - binary_accuracy: 0.9973\n",
      "Epoch 9/50\n",
      "22/22 [==============================] - 0s 4ms/step - loss: 0.0252 - binary_accuracy: 0.9966\n",
      "Epoch 10/50\n",
      "22/22 [==============================] - 0s 4ms/step - loss: 0.0171 - binary_accuracy: 0.9986\n",
      "Epoch 11/50\n",
      "22/22 [==============================] - 0s 4ms/step - loss: 0.0134 - binary_accuracy: 0.9987\n",
      "Epoch 12/50\n",
      "22/22 [==============================] - 0s 4ms/step - loss: 0.0117 - binary_accuracy: 0.9990\n",
      "Epoch 13/50\n",
      "22/22 [==============================] - 0s 4ms/step - loss: 0.0108 - binary_accuracy: 0.9991\n",
      "Epoch 14/50\n",
      "22/22 [==============================] - 0s 4ms/step - loss: 0.0097 - binary_accuracy: 0.9992\n",
      "Epoch 15/50\n",
      "22/22 [==============================] - 0s 4ms/step - loss: 0.0092 - binary_accuracy: 0.9992\n",
      "Epoch 16/50\n",
      "22/22 [==============================] - 0s 4ms/step - loss: 0.0159 - binary_accuracy: 0.9980\n",
      "Epoch 17/50\n",
      "22/22 [==============================] - 0s 4ms/step - loss: 0.0083 - binary_accuracy: 0.9998\n",
      "Epoch 18/50\n",
      "22/22 [==============================] - 0s 4ms/step - loss: 0.0061 - binary_accuracy: 0.9998\n",
      "Epoch 19/50\n",
      "22/22 [==============================] - 0s 4ms/step - loss: 0.0090 - binary_accuracy: 0.9995\n",
      "Epoch 20/50\n",
      "22/22 [==============================] - 0s 4ms/step - loss: 0.0078 - binary_accuracy: 0.9995\n",
      "Epoch 21/50\n",
      "22/22 [==============================] - 0s 4ms/step - loss: 0.0051 - binary_accuracy: 0.9999\n",
      "Epoch 22/50\n",
      "22/22 [==============================] - 0s 4ms/step - loss: 0.0044 - binary_accuracy: 0.9999\n",
      "Epoch 23/50\n",
      "22/22 [==============================] - 0s 4ms/step - loss: 0.0039 - binary_accuracy: 0.9999\n",
      "Epoch 24/50\n",
      "22/22 [==============================] - 0s 4ms/step - loss: 0.0036 - binary_accuracy: 1.0000\n",
      "Epoch 25/50\n",
      "22/22 [==============================] - 0s 4ms/step - loss: 0.0030 - binary_accuracy: 1.0000\n",
      "Epoch 26/50\n",
      "22/22 [==============================] - 0s 4ms/step - loss: 0.0027 - binary_accuracy: 1.0000\n",
      "Epoch 27/50\n",
      "22/22 [==============================] - 0s 4ms/step - loss: 0.0036 - binary_accuracy: 1.0000\n",
      "Epoch 28/50\n",
      "22/22 [==============================] - 0s 4ms/step - loss: 0.0024 - binary_accuracy: 1.0000\n",
      "Epoch 29/50\n",
      "22/22 [==============================] - 0s 4ms/step - loss: 0.0023 - binary_accuracy: 1.0000\n",
      "Epoch 30/50\n",
      "22/22 [==============================] - 0s 4ms/step - loss: 0.0021 - binary_accuracy: 1.0000\n",
      "Epoch 31/50\n",
      "22/22 [==============================] - 0s 4ms/step - loss: 0.0018 - binary_accuracy: 1.0000\n",
      "Epoch 32/50\n",
      "22/22 [==============================] - 0s 4ms/step - loss: 0.0017 - binary_accuracy: 1.0000\n",
      "Epoch 33/50\n",
      "22/22 [==============================] - 0s 4ms/step - loss: 0.0017 - binary_accuracy: 1.0000\n",
      "Epoch 34/50\n",
      "22/22 [==============================] - 0s 4ms/step - loss: 0.0015 - binary_accuracy: 1.0000\n",
      "Epoch 35/50\n",
      "22/22 [==============================] - 0s 4ms/step - loss: 0.0014 - binary_accuracy: 1.0000\n",
      "Epoch 36/50\n",
      "22/22 [==============================] - 0s 4ms/step - loss: 0.0013 - binary_accuracy: 1.0000\n",
      "Epoch 37/50\n",
      "22/22 [==============================] - 0s 4ms/step - loss: 0.0013 - binary_accuracy: 1.0000\n",
      "Epoch 38/50\n",
      "22/22 [==============================] - 0s 4ms/step - loss: 0.0011 - binary_accuracy: 1.0000\n",
      "Epoch 39/50\n",
      "22/22 [==============================] - 0s 4ms/step - loss: 0.0011 - binary_accuracy: 1.0000\n",
      "Epoch 40/50\n",
      "22/22 [==============================] - 0s 4ms/step - loss: 0.0019 - binary_accuracy: 1.0000\n",
      "Epoch 41/50\n",
      "22/22 [==============================] - 0s 4ms/step - loss: 0.0011 - binary_accuracy: 1.0000\n",
      "Epoch 42/50\n",
      "22/22 [==============================] - 0s 4ms/step - loss: 8.9634e-04 - binary_accuracy: 1.0000\n",
      "Epoch 43/50\n",
      "22/22 [==============================] - 0s 4ms/step - loss: 8.9527e-04 - binary_accuracy: 1.0000\n",
      "Epoch 44/50\n",
      "22/22 [==============================] - 0s 4ms/step - loss: 8.2384e-04 - binary_accuracy: 1.0000\n",
      "Epoch 45/50\n",
      "22/22 [==============================] - 0s 4ms/step - loss: 9.1821e-04 - binary_accuracy: 1.0000\n",
      "Epoch 46/50\n",
      "22/22 [==============================] - 0s 4ms/step - loss: 7.7363e-04 - binary_accuracy: 1.0000\n",
      "Epoch 47/50\n",
      "22/22 [==============================] - 0s 4ms/step - loss: 6.9940e-04 - binary_accuracy: 1.0000\n",
      "Epoch 48/50\n",
      "22/22 [==============================] - 0s 4ms/step - loss: 7.0349e-04 - binary_accuracy: 1.0000\n",
      "Epoch 49/50\n",
      "22/22 [==============================] - 0s 4ms/step - loss: 6.6888e-04 - binary_accuracy: 1.0000\n",
      "Epoch 50/50\n",
      "22/22 [==============================] - 0s 4ms/step - loss: 6.1060e-04 - binary_accuracy: 1.0000\n"
     ]
    },
    {
     "data": {
      "text/plain": [
       "<keras.callbacks.History at 0x7f7e00719360>"
      ]
     },
     "execution_count": 10,
     "metadata": {},
     "output_type": "execute_result"
    }
   ],
   "source": [
    "model.compile(optimizer='adam',\n",
    "              loss='binary_crossentropy',\n",
    "              metrics=['binary_accuracy'])\n",
    "\n",
    "model.fit(x_train, y_train, batch_size=64, epochs=50)"
   ]
  },
  {
   "cell_type": "code",
   "execution_count": 11,
   "id": "888931b0",
   "metadata": {},
   "outputs": [
    {
     "name": "stdout",
     "output_type": "stream",
     "text": [
      "0.9866666666666667\n"
     ]
    },
    {
     "data": {
      "text/plain": [
       "array([[38,  0,  0,  0,  0,  0,  0,  0,  0,  0],\n",
       "       [ 0, 54,  0,  0,  0,  0,  0,  0,  0,  0],\n",
       "       [ 0,  0, 43,  0,  0,  0,  0,  0,  0,  0],\n",
       "       [ 0,  0,  0, 46,  0,  0,  0,  0,  0,  0],\n",
       "       [ 0,  0,  0,  0, 36,  0,  0,  0,  0,  0],\n",
       "       [ 0,  0,  0,  0,  0, 51,  0,  0,  0,  0],\n",
       "       [ 0,  0,  0,  0,  0,  0, 41,  0,  0,  0],\n",
       "       [ 0,  0,  0,  0,  0,  0,  0, 41,  0,  0],\n",
       "       [ 0,  1,  0,  2,  0,  1,  0,  0, 50,  0],\n",
       "       [ 0,  1,  0,  0,  0,  0,  0,  0,  1, 44]])"
      ]
     },
     "execution_count": 11,
     "metadata": {},
     "output_type": "execute_result"
    }
   ],
   "source": [
    "y_pred = model.predict(x_test)\n",
    "yy_pred = np.argmax(y_pred,axis=1)\n",
    "yy_test = np.argmax(y_test,axis=1)\n",
    "\n",
    "print(accuracy_score(yy_test,yy_pred))\n",
    "confusion_matrix(yy_test,yy_pred)"
   ]
  },
  {
   "cell_type": "markdown",
   "id": "db0bdbde",
   "metadata": {},
   "source": [
    "# Recurrent Neural Networks"
   ]
  },
  {
   "cell_type": "code",
   "execution_count": 12,
   "id": "5cfbb224",
   "metadata": {},
   "outputs": [],
   "source": [
    "newsgroups = fetch_20newsgroups_vectorized()"
   ]
  },
  {
   "cell_type": "code",
   "execution_count": 15,
   "id": "495d6780",
   "metadata": {},
   "outputs": [],
   "source": [
    "x_news = newsgroups['data'].toarray()\n",
    "y_news = newsgroups['target']"
   ]
  },
  {
   "cell_type": "code",
   "execution_count": 16,
   "id": "1bab8567",
   "metadata": {},
   "outputs": [
    {
     "data": {
      "text/plain": [
       "(8485, 130107)"
      ]
     },
     "execution_count": 16,
     "metadata": {},
     "output_type": "execute_result"
    }
   ],
   "source": [
    "labeler = LabelBinarizer()\n",
    "yy_news = labeler.fit_transform(y_news)\n",
    "\n",
    "x_train, x_test, y_train, y_test = train_test_split(x_news,yy_news)\n",
    "x_train.shape"
   ]
  },
  {
   "cell_type": "code",
   "execution_count": 17,
   "id": "a55d0f73",
   "metadata": {
    "scrolled": false
   },
   "outputs": [
    {
     "name": "stdout",
     "output_type": "stream",
     "text": [
      "Model: \"sequential_3\"\n",
      "_________________________________________________________________\n",
      " Layer (type)                Output Shape              Param #   \n",
      "=================================================================\n",
      " embedding_1 (Embedding)     (None, None, 128)         16653696  \n",
      "                                                                 \n",
      " dense_6 (Dense)             (None, None, 128)         16512     \n",
      "                                                                 \n",
      " dense_7 (Dense)             (None, None, 20)          2580      \n",
      "                                                                 \n",
      "=================================================================\n",
      "Total params: 16,672,788\n",
      "Trainable params: 16,672,788\n",
      "Non-trainable params: 0\n",
      "_________________________________________________________________\n"
     ]
    }
   ],
   "source": [
    "model = ks.Sequential()\n",
    "\n",
    "model.add(Embedding(input_dim=x_train.shape[1], output_dim=128))\n",
    "model.add(Dense(128,activation='relu'))\n",
    "model.add(Dense(20,activation='softmax'))\n",
    "\n",
    "model.summary()"
   ]
  },
  {
   "cell_type": "code",
   "execution_count": 18,
   "id": "06854077",
   "metadata": {
    "scrolled": false
   },
   "outputs": [
    {
     "name": "stderr",
     "output_type": "stream",
     "text": [
      "2022-05-10 14:40:51.770673: W tensorflow/core/framework/cpu_allocator_impl.cc:82] Allocation of 4415831580 exceeds 10% of free system memory.\n"
     ]
    },
    {
     "name": "stdout",
     "output_type": "stream",
     "text": [
      "Epoch 1/300\n"
     ]
    },
    {
     "ename": "ValueError",
     "evalue": "in user code:\n\n    File \"/home/kaygun/.local/lib/python3.10/site-packages/keras/engine/training.py\", line 1021, in train_function  *\n        return step_function(self, iterator)\n    File \"/home/kaygun/.local/lib/python3.10/site-packages/keras/engine/training.py\", line 1010, in step_function  **\n        outputs = model.distribute_strategy.run(run_step, args=(data,))\n    File \"/home/kaygun/.local/lib/python3.10/site-packages/keras/engine/training.py\", line 1000, in run_step  **\n        outputs = model.train_step(data)\n    File \"/home/kaygun/.local/lib/python3.10/site-packages/keras/engine/training.py\", line 860, in train_step\n        loss = self.compute_loss(x, y, y_pred, sample_weight)\n    File \"/home/kaygun/.local/lib/python3.10/site-packages/keras/engine/training.py\", line 918, in compute_loss\n        return self.compiled_loss(\n    File \"/home/kaygun/.local/lib/python3.10/site-packages/keras/engine/compile_utils.py\", line 201, in __call__\n        loss_value = loss_obj(y_t, y_p, sample_weight=sw)\n    File \"/home/kaygun/.local/lib/python3.10/site-packages/keras/losses.py\", line 141, in __call__\n        losses = call_fn(y_true, y_pred)\n    File \"/home/kaygun/.local/lib/python3.10/site-packages/keras/losses.py\", line 245, in call  **\n        return ag_fn(y_true, y_pred, **self._fn_kwargs)\n    File \"/home/kaygun/.local/lib/python3.10/site-packages/keras/losses.py\", line 1932, in binary_crossentropy\n        backend.binary_crossentropy(y_true, y_pred, from_logits=from_logits),\n    File \"/home/kaygun/.local/lib/python3.10/site-packages/keras/backend.py\", line 5247, in binary_crossentropy\n        return tf.nn.sigmoid_cross_entropy_with_logits(labels=target, logits=output)\n\n    ValueError: `logits` and `labels` must have the same shape, received ((None, 130107, 20) vs (None, 20)).\n",
     "output_type": "error",
     "traceback": [
      "\u001b[0;31m---------------------------------------------------------------------------\u001b[0m",
      "\u001b[0;31mValueError\u001b[0m                                Traceback (most recent call last)",
      "Input \u001b[0;32mIn [18]\u001b[0m, in \u001b[0;36m<cell line: 5>\u001b[0;34m()\u001b[0m\n\u001b[1;32m      1\u001b[0m model\u001b[38;5;241m.\u001b[39mcompile(optimizer\u001b[38;5;241m=\u001b[39m\u001b[38;5;124m'\u001b[39m\u001b[38;5;124madam\u001b[39m\u001b[38;5;124m'\u001b[39m,\n\u001b[1;32m      2\u001b[0m               loss\u001b[38;5;241m=\u001b[39m\u001b[38;5;124m'\u001b[39m\u001b[38;5;124mbinary_crossentropy\u001b[39m\u001b[38;5;124m'\u001b[39m,\n\u001b[1;32m      3\u001b[0m               metrics\u001b[38;5;241m=\u001b[39m[\u001b[38;5;124m'\u001b[39m\u001b[38;5;124mbinary_accuracy\u001b[39m\u001b[38;5;124m'\u001b[39m])\n\u001b[0;32m----> 5\u001b[0m \u001b[43mmodel\u001b[49m\u001b[38;5;241;43m.\u001b[39;49m\u001b[43mfit\u001b[49m\u001b[43m(\u001b[49m\u001b[43mx_train\u001b[49m\u001b[43m,\u001b[49m\u001b[43my_train\u001b[49m\u001b[43m,\u001b[49m\u001b[43mepochs\u001b[49m\u001b[38;5;241;43m=\u001b[39;49m\u001b[38;5;241;43m300\u001b[39;49m\u001b[43m,\u001b[49m\u001b[43mbatch_size\u001b[49m\u001b[38;5;241;43m=\u001b[39;49m\u001b[38;5;241;43m100\u001b[39;49m\u001b[43m)\u001b[49m\n",
      "File \u001b[0;32m~/.local/lib/python3.10/site-packages/keras/utils/traceback_utils.py:67\u001b[0m, in \u001b[0;36mfilter_traceback.<locals>.error_handler\u001b[0;34m(*args, **kwargs)\u001b[0m\n\u001b[1;32m     65\u001b[0m \u001b[38;5;28;01mexcept\u001b[39;00m \u001b[38;5;167;01mException\u001b[39;00m \u001b[38;5;28;01mas\u001b[39;00m e:  \u001b[38;5;66;03m# pylint: disable=broad-except\u001b[39;00m\n\u001b[1;32m     66\u001b[0m   filtered_tb \u001b[38;5;241m=\u001b[39m _process_traceback_frames(e\u001b[38;5;241m.\u001b[39m__traceback__)\n\u001b[0;32m---> 67\u001b[0m   \u001b[38;5;28;01mraise\u001b[39;00m e\u001b[38;5;241m.\u001b[39mwith_traceback(filtered_tb) \u001b[38;5;28;01mfrom\u001b[39;00m \u001b[38;5;28mNone\u001b[39m\n\u001b[1;32m     68\u001b[0m \u001b[38;5;28;01mfinally\u001b[39;00m:\n\u001b[1;32m     69\u001b[0m   \u001b[38;5;28;01mdel\u001b[39;00m filtered_tb\n",
      "File \u001b[0;32m~/.local/lib/python3.10/site-packages/tensorflow/python/framework/func_graph.py:1147\u001b[0m, in \u001b[0;36mfunc_graph_from_py_func.<locals>.autograph_handler\u001b[0;34m(*args, **kwargs)\u001b[0m\n\u001b[1;32m   1145\u001b[0m \u001b[38;5;28;01mexcept\u001b[39;00m \u001b[38;5;167;01mException\u001b[39;00m \u001b[38;5;28;01mas\u001b[39;00m e:  \u001b[38;5;66;03m# pylint:disable=broad-except\u001b[39;00m\n\u001b[1;32m   1146\u001b[0m   \u001b[38;5;28;01mif\u001b[39;00m \u001b[38;5;28mhasattr\u001b[39m(e, \u001b[38;5;124m\"\u001b[39m\u001b[38;5;124mag_error_metadata\u001b[39m\u001b[38;5;124m\"\u001b[39m):\n\u001b[0;32m-> 1147\u001b[0m     \u001b[38;5;28;01mraise\u001b[39;00m e\u001b[38;5;241m.\u001b[39mag_error_metadata\u001b[38;5;241m.\u001b[39mto_exception(e)\n\u001b[1;32m   1148\u001b[0m   \u001b[38;5;28;01melse\u001b[39;00m:\n\u001b[1;32m   1149\u001b[0m     \u001b[38;5;28;01mraise\u001b[39;00m\n",
      "\u001b[0;31mValueError\u001b[0m: in user code:\n\n    File \"/home/kaygun/.local/lib/python3.10/site-packages/keras/engine/training.py\", line 1021, in train_function  *\n        return step_function(self, iterator)\n    File \"/home/kaygun/.local/lib/python3.10/site-packages/keras/engine/training.py\", line 1010, in step_function  **\n        outputs = model.distribute_strategy.run(run_step, args=(data,))\n    File \"/home/kaygun/.local/lib/python3.10/site-packages/keras/engine/training.py\", line 1000, in run_step  **\n        outputs = model.train_step(data)\n    File \"/home/kaygun/.local/lib/python3.10/site-packages/keras/engine/training.py\", line 860, in train_step\n        loss = self.compute_loss(x, y, y_pred, sample_weight)\n    File \"/home/kaygun/.local/lib/python3.10/site-packages/keras/engine/training.py\", line 918, in compute_loss\n        return self.compiled_loss(\n    File \"/home/kaygun/.local/lib/python3.10/site-packages/keras/engine/compile_utils.py\", line 201, in __call__\n        loss_value = loss_obj(y_t, y_p, sample_weight=sw)\n    File \"/home/kaygun/.local/lib/python3.10/site-packages/keras/losses.py\", line 141, in __call__\n        losses = call_fn(y_true, y_pred)\n    File \"/home/kaygun/.local/lib/python3.10/site-packages/keras/losses.py\", line 245, in call  **\n        return ag_fn(y_true, y_pred, **self._fn_kwargs)\n    File \"/home/kaygun/.local/lib/python3.10/site-packages/keras/losses.py\", line 1932, in binary_crossentropy\n        backend.binary_crossentropy(y_true, y_pred, from_logits=from_logits),\n    File \"/home/kaygun/.local/lib/python3.10/site-packages/keras/backend.py\", line 5247, in binary_crossentropy\n        return tf.nn.sigmoid_cross_entropy_with_logits(labels=target, logits=output)\n\n    ValueError: `logits` and `labels` must have the same shape, received ((None, 130107, 20) vs (None, 20)).\n"
     ]
    }
   ],
   "source": [
    "model.compile(optimizer='adam',\n",
    "              loss='binary_crossentropy',\n",
    "              metrics=['binary_accuracy'])\n",
    "\n",
    "model.fit(x_train,y_train,epochs=300,batch_size=100)"
   ]
  },
  {
   "cell_type": "code",
   "execution_count": 72,
   "id": "0bedf589",
   "metadata": {},
   "outputs": [
    {
     "ename": "KeyboardInterrupt",
     "evalue": "",
     "output_type": "error",
     "traceback": [
      "\u001b[0;31m---------------------------------------------------------------------------\u001b[0m",
      "\u001b[0;31mKeyboardInterrupt\u001b[0m                         Traceback (most recent call last)",
      "Input \u001b[0;32mIn [72]\u001b[0m, in \u001b[0;36m<cell line: 1>\u001b[0;34m()\u001b[0m\n\u001b[0;32m----> 1\u001b[0m \u001b[43mx_train\u001b[49m\u001b[38;5;241;43m.\u001b[39;49m\u001b[43mtoarray\u001b[49m\u001b[43m(\u001b[49m\u001b[43m)\u001b[49m\u001b[38;5;241;43m.\u001b[39;49m\u001b[43mastype\u001b[49m\u001b[43m(\u001b[49m\u001b[43mnp\u001b[49m\u001b[38;5;241;43m.\u001b[39;49m\u001b[43mfloat16\u001b[49m\u001b[43m)\u001b[49m\n",
      "\u001b[0;31mKeyboardInterrupt\u001b[0m: "
     ]
    }
   ],
   "source": [
    "x_train.toarray().astype(np.float16)"
   ]
  },
  {
   "cell_type": "code",
   "execution_count": null,
   "id": "cb004fce",
   "metadata": {},
   "outputs": [],
   "source": []
  }
 ],
 "metadata": {
  "kernelspec": {
   "display_name": "Python 3 (ipykernel)",
   "language": "python",
   "name": "python3"
  },
  "language_info": {
   "codemirror_mode": {
    "name": "ipython",
    "version": 3
   },
   "file_extension": ".py",
   "mimetype": "text/x-python",
   "name": "python",
   "nbconvert_exporter": "python",
   "pygments_lexer": "ipython3",
   "version": "3.10.4"
  }
 },
 "nbformat": 4,
 "nbformat_minor": 5
}
