{
 "cells": [
  {
   "cell_type": "code",
   "execution_count": 1,
   "metadata": {},
   "outputs": [],
   "source": [
    "import numpy as np\n",
    "from scipy.io.matlab import loadmat\n",
    "from scipy.optimize import linear_sum_assignment"
   ]
  },
  {
   "cell_type": "code",
   "execution_count": 5,
   "metadata": {},
   "outputs": [
    {
     "data": {
      "text/plain": [
       "(512, 217, 204)"
      ]
     },
     "execution_count": 5,
     "metadata": {},
     "output_type": "execute_result"
    }
   ],
   "source": [
    "salinas = loadmat('data/Salinas_corrected.mat')['salinas_corrected']\n",
    "salinas.shape"
   ]
  },
  {
   "cell_type": "code",
   "execution_count": 6,
   "metadata": {},
   "outputs": [
    {
     "data": {
      "text/plain": [
       "(512, 217)"
      ]
     },
     "execution_count": 6,
     "metadata": {},
     "output_type": "execute_result"
    }
   ],
   "source": [
    "salinas_gt = loadmat('data/Salinas_gt.mat')['salinas_gt']\n",
    "salinas_gt.shape"
   ]
  },
  {
   "cell_type": "code",
   "execution_count": 7,
   "metadata": {},
   "outputs": [],
   "source": [
    "from sklearn.model_selection import train_test_split\n",
    "from sklearn.metrics import confusion_matrix, accuracy_score\n",
    "from scipy.stats import chisquare\n",
    "from sklearn.linear_model import LinearRegression\n",
    "from sklearn.linear_model import LogisticRegression\n",
    "from sklearn.svm import LinearSVC,SVC\n",
    "from sklearn.neighbors import KNeighborsClassifier\n",
    "from sklearn.cluster import KMeans, DBSCAN, AgglomerativeClustering\n",
    "import matplotlib.pyplot as plt\n",
    "import time"
   ]
  },
  {
   "cell_type": "markdown",
   "metadata": {},
   "source": [
    " # Reshaping and Splitting Data "
   ]
  },
  {
   "cell_type": "code",
   "execution_count": 8,
   "metadata": {},
   "outputs": [],
   "source": [
    "x = salinas.reshape((512*217,204))\n",
    "y = salinas_gt.reshape(512*217)"
   ]
  },
  {
   "cell_type": "code",
   "execution_count": null,
   "metadata": {},
   "outputs": [],
   "source": [
    "np.unique(y)"
   ]
  },
  {
   "cell_type": "code",
   "execution_count": 9,
   "metadata": {},
   "outputs": [],
   "source": [
    "x_train, x_test, y_train, y_test = train_test_split(x,y,test_size=0.2,random_state=42)"
   ]
  },
  {
   "cell_type": "markdown",
   "metadata": {},
   "source": [
    "# Supervised Algorithms"
   ]
  },
  {
   "cell_type": "code",
   "execution_count": null,
   "metadata": {},
   "outputs": [],
   "source": [
    "start=time.time()\n",
    "LR_model = LinearRegression().fit(x_train,y_train)\n",
    "LR_predicted = np.round(LR_model.predict(x_test))\n",
    "end=time.time()\n",
    "LR_time = (end-start)"
   ]
  },
  {
   "cell_type": "code",
   "execution_count": null,
   "metadata": {},
   "outputs": [],
   "source": [
    "LR_cm = confusion_matrix(y_test,LR_predicted)\n",
    "ch_LR = chisquare(LR_cm,axis=None)"
   ]
  },
  {
   "cell_type": "code",
   "execution_count": null,
   "metadata": {},
   "outputs": [],
   "source": [
    "plt.imshow(LR_cm)"
   ]
  },
  {
   "cell_type": "code",
   "execution_count": null,
   "metadata": {},
   "outputs": [],
   "source": [
    "start=time.time()\n",
    "LoR_model = LogisticRegression().fit(x_train,y_train)\n",
    "LoR_predicted = LoR_model.predict(x_test)\n",
    "end=time.time()\n",
    "LoR_time = (end-start)"
   ]
  },
  {
   "cell_type": "code",
   "execution_count": null,
   "metadata": {},
   "outputs": [],
   "source": [
    "LoR_cm=confusion_matrix(y_test,LoR_predicted)\n",
    "ch_LoR = chisquare(LoR_cm,axis=None)"
   ]
  },
  {
   "cell_type": "code",
   "execution_count": null,
   "metadata": {},
   "outputs": [],
   "source": [
    "plt.imshow(LoR_cm)"
   ]
  },
  {
   "cell_type": "code",
   "execution_count": null,
   "metadata": {},
   "outputs": [],
   "source": [
    "start=time.time()\n",
    "\n",
    "SVC_Model = SVC(C=12.0,\n",
    "                kernel='poly',\n",
    "                max_iter=100).fit(x_train,y_train)\n",
    "SVC_Predict = SVC_Model.predict(x_test)\n",
    "end=time.time()\n",
    "SVC_time = (end-start)"
   ]
  },
  {
   "cell_type": "code",
   "execution_count": null,
   "metadata": {},
   "outputs": [],
   "source": [
    "SVC_cm = confusion_matrix(y_test,SVC_Predict)"
   ]
  },
  {
   "cell_type": "code",
   "execution_count": null,
   "metadata": {},
   "outputs": [],
   "source": [
    "ch_SVC = chisquare(SVC_cm,axis=None)"
   ]
  },
  {
   "cell_type": "code",
   "execution_count": null,
   "metadata": {},
   "outputs": [],
   "source": [
    "plt.imshow(SVC_cm)"
   ]
  },
  {
   "cell_type": "code",
   "execution_count": null,
   "metadata": {},
   "outputs": [],
   "source": [
    "start=time.time()\n",
    "LSVC_model = LinearSVC(multi_class='ovr',max_iter=100).fit(x_train,y_train)\n",
    "LSVC_predicted = LSVC_model.predict(x_test)\n",
    "end=time.time()\n",
    "LSVC_time = (end-start)"
   ]
  },
  {
   "cell_type": "code",
   "execution_count": null,
   "metadata": {},
   "outputs": [],
   "source": [
    "LSVC_cm = confusion_matrix(y_test,LSVC_predicted)"
   ]
  },
  {
   "cell_type": "code",
   "execution_count": null,
   "metadata": {},
   "outputs": [],
   "source": [
    "ch_LSVC = chisquare(LSVC_cm,axis=None)"
   ]
  },
  {
   "cell_type": "code",
   "execution_count": null,
   "metadata": {},
   "outputs": [],
   "source": [
    "plt.imshow(LSVC_cm)"
   ]
  },
  {
   "cell_type": "code",
   "execution_count": null,
   "metadata": {},
   "outputs": [],
   "source": [
    "start=time.time()\n",
    "KNN_Model = KNeighborsClassifier().fit(x_train,y_train)\n",
    "KNN_Predict = KNN_Model.predict(x_test)\n",
    "end=time.time()\n",
    "KNN_time = (end-start)"
   ]
  },
  {
   "cell_type": "code",
   "execution_count": null,
   "metadata": {},
   "outputs": [],
   "source": [
    "KNN_cm = confusion_matrix(y_test,KNN_Predict)\n",
    "ch_KNN = chisquare(KNN_cm,axis=None)"
   ]
  },
  {
   "cell_type": "code",
   "execution_count": null,
   "metadata": {},
   "outputs": [],
   "source": [
    "plt.imshow(KNN_cm)"
   ]
  },
  {
   "cell_type": "code",
   "execution_count": null,
   "metadata": {},
   "outputs": [],
   "source": [
    "compare_arr_sup = np.array([ch_LR[0],ch_LSVC[0],ch_SVC[0],ch_LoR[0],ch_KNN[0]])\n",
    "time_arr_sup = np.array([LR_time,LoR_time,SVC_time,LSVC_time,KNN_time])"
   ]
  },
  {
   "cell_type": "code",
   "execution_count": null,
   "metadata": {},
   "outputs": [],
   "source": [
    "plt.figure(figsize=(12,5))\n",
    "plt.bar(['Linear \\n Regression','Linear SVC','SVC','Logistic \\nRegression','K\\nNearest\\nNeighbours'],compare_arr_sup,color='g',label='Chi-Squared')\n",
    "plt.legend()\n",
    "plt.figure(figsize=(12,5))\n",
    "plt.bar(['Linear \\n Regression','Linear SVC','SVC','Logistic \\nRegression','K\\nNearest\\nNeighbours'],time_arr_sup,color='r',label='Process Time (s)')\n",
    "plt.legend()"
   ]
  },
  {
   "cell_type": "markdown",
   "metadata": {},
   "source": [
    "# Unsupervised Models"
   ]
  },
  {
   "cell_type": "code",
   "execution_count": null,
   "metadata": {},
   "outputs": [],
   "source": [
    "classes = len(np.unique(y))"
   ]
  },
  {
   "cell_type": "code",
   "execution_count": null,
   "metadata": {},
   "outputs": [],
   "source": [
    "start=time.time()\n",
    "KM_Model = KMeans(n_clusters=classes).fit(x)\n",
    "KM_Predicted = KM_Model.predict(x)\n",
    "end=time.time()\n",
    "KM_time = (end-start)"
   ]
  },
  {
   "cell_type": "code",
   "execution_count": null,
   "metadata": {},
   "outputs": [],
   "source": [
    "KM_cm = confusion_matrix(y,KM_Predicted)\n",
    "rows, cols = linear_sum_assignment(KM_cm,maximize=True)\n",
    "KM_cm = KM_cm[rows,:]\n",
    "KM_cm = KM_cm[:,cols]\n",
    "ch_KM = chisquare(KM_cm,axis=None)"
   ]
  },
  {
   "cell_type": "code",
   "execution_count": null,
   "metadata": {},
   "outputs": [],
   "source": [
    "plt.imshow(KM_cm)"
   ]
  },
  {
   "cell_type": "code",
   "execution_count": null,
   "metadata": {},
   "outputs": [],
   "source": [
    "classes = len(np.unique(y))"
   ]
  },
  {
   "cell_type": "code",
   "execution_count": 30,
   "metadata": {},
   "outputs": [],
   "source": [
    "start=time.time()\n",
    "H_predicted = AgglomerativeClustering(n_clusters=classes).fit_predict(x_test)\n",
    "end=time.time()\n",
    "H_time = (end-start)"
   ]
  },
  {
   "cell_type": "code",
   "execution_count": 23,
   "metadata": {},
   "outputs": [],
   "source": [
    "H_cm = confusion_matrix(y_test,H_model)\n",
    "rows, cols = linear_sum_assignment(H_cm,maximize=True)\n",
    "H_cm = H_cm[rows,:]\n",
    "H_cm = H_cm[:,cols]\n",
    "ch_H = chisquare(H_cm)\n",
    "plt.imshow(H_cm)"
   ]
  },
  {
   "cell_type": "code",
   "execution_count": null,
   "metadata": {},
   "outputs": [],
   "source": [
    "start=time.time()\n",
    "DB_Predicted = DBSCAN().fit_predict(x)\n",
    "end=time.time()\n",
    "DB_time = (end-start)"
   ]
  },
  {
   "cell_type": "code",
   "execution_count": null,
   "metadata": {},
   "outputs": [],
   "source": [
    "DB_cm = confusion_matrix(y,DB_Predicted)\n",
    "rows, cols = linear_sum_assignment(DB_cm,maximize=True)\n",
    "DB_cm = DB_cm[rows,:]\n",
    "DB_cm = DB_cm[:,cols]"
   ]
  },
  {
   "cell_type": "code",
   "execution_count": null,
   "metadata": {},
   "outputs": [],
   "source": [
    "ch_DB = chisquare(DB_cm,axis=None)"
   ]
  },
  {
   "cell_type": "code",
   "execution_count": null,
   "metadata": {},
   "outputs": [],
   "source": [
    "plt.imshow(DB_cm)"
   ]
  },
  {
   "cell_type": "code",
   "execution_count": null,
   "metadata": {},
   "outputs": [],
   "source": [
    "compare_arr_unsup = np.array([ch_KM[0],ch_H[0],ch_DB[0]])\n",
    "times_unsup = np.array([KM_time,H_time,DB_time])"
   ]
  },
  {
   "cell_type": "code",
   "execution_count": null,
   "metadata": {},
   "outputs": [],
   "source": [
    "unsup_al = ['K_Means','Hierarcial','DB-scan']\n",
    "x_ax = np.arange(len(unsup_al))"
   ]
  },
  {
   "cell_type": "code",
   "execution_count": null,
   "metadata": {},
   "outputs": [],
   "source": [
    "plt.figure(figsize=(12,5))\n",
    "plt.bar(['K_Means','Hierarcial','DB-scan'],compare_arr_unsup,color='g',label='Chi-Square')\n",
    "plt.legend()\n",
    "plt.figure(figsize=(12,5))\n",
    "plt.bar(['K_Means','Hierarcial','DB-scan'],times_unsup,color='r',label='Process Time')\n",
    "plt.legend()"
   ]
  },
  {
   "cell_type": "code",
   "execution_count": null,
   "metadata": {},
   "outputs": [],
   "source": [
    "compare_merged = np.concatenate((compare_arr_sup,compare_arr_unsup))\n",
    "compare_merged_time = np.concatenate((time_arr_sup,times_unsup))"
   ]
  },
  {
   "cell_type": "code",
   "execution_count": null,
   "metadata": {},
   "outputs": [],
   "source": [
    "plt.figure(figsize=(12,5))\n",
    "plt.bar(['Linear \\n Regression','Linear SVC','SVC','Logistic \\nRegression','K\\nNearest\\nNeighbours','K_Means','Hierarcial','DB-scan'],\n",
    "        compare_merged,color='g',label='Chi-Square')\n",
    "plt.legend()\n",
    "\n",
    "plt.figure(figsize=(12,5))\n",
    "plt.bar(['Linear \\n Regression','Linear SVC','SVC','Logistic \\nRegression','K\\nNearest\\nNeighbours','K_Means','Hierarcial','DB-scan'],\n",
    "        compare_merged_time,color='r',label='Process Time')\n",
    "plt.legend()"
   ]
  },
  {
   "cell_type": "code",
   "execution_count": null,
   "metadata": {},
   "outputs": [],
   "source": []
  },
  {
   "cell_type": "code",
   "execution_count": null,
   "metadata": {},
   "outputs": [],
   "source": []
  },
  {
   "cell_type": "code",
   "execution_count": null,
   "metadata": {},
   "outputs": [],
   "source": []
  },
  {
   "cell_type": "code",
   "execution_count": 11,
   "metadata": {},
   "outputs": [],
   "source": [
    "classes = len(np.unique(y))"
   ]
  },
  {
   "cell_type": "code",
   "execution_count": 19,
   "metadata": {},
   "outputs": [],
   "source": [
    "start=time.time()\n",
    "\n",
    "H_model = AgglomerativeClustering(n_clusters=classes,\n",
    "                                 linkage='complete',\n",
    "                                 affinity='manhattan').fit_predict(x_test)\n",
    "\n",
    "\n",
    "end=time.time()\n",
    "H_time = (end-start)"
   ]
  },
  {
   "cell_type": "code",
   "execution_count": null,
   "metadata": {},
   "outputs": [],
   "source": [
    "predicted = model.fit_predict(X)\n",
    "chisquare(confusion_matrix(y,predicted),axis=None)"
   ]
  }
 ],
 "metadata": {
  "kernelspec": {
   "display_name": "Python 3",
   "language": "python",
   "name": "python3"
  },
  "language_info": {
   "codemirror_mode": {
    "name": "ipython",
    "version": 3
   },
   "file_extension": ".py",
   "mimetype": "text/x-python",
   "name": "python",
   "nbconvert_exporter": "python",
   "pygments_lexer": "ipython3",
   "version": "3.7.6"
  }
 },
 "nbformat": 4,
 "nbformat_minor": 4
}
