{
 "cells": [
  {
   "cell_type": "code",
   "execution_count": 17,
   "id": "58cae1e0",
   "metadata": {},
   "outputs": [],
   "source": [
    "import numpy as np\n",
    "from scipy.io.matlab import loadmat\n",
    "from scipy.optimize import linear_sum_assignment"
   ]
  },
  {
   "cell_type": "markdown",
   "id": "32b14523",
   "metadata": {},
   "source": [
    "# HW3\n",
    "\n",
    "In this homework we are going to look at a hyperspectral image dataset called [Salinas](https://rslab.ut.ac.ir/data) dataset."
   ]
  },
  {
   "cell_type": "code",
   "execution_count": 22,
   "id": "38b112da",
   "metadata": {},
   "outputs": [
    {
     "data": {
      "text/plain": [
       "(512, 217, 204)"
      ]
     },
     "execution_count": 22,
     "metadata": {},
     "output_type": "execute_result"
    }
   ],
   "source": [
    "salinas = loadmat('data/Salinas_corrected.mat')['salinas_corrected']\n",
    "salinas.shape"
   ]
  },
  {
   "cell_type": "code",
   "execution_count": 25,
   "id": "ac32daca",
   "metadata": {},
   "outputs": [
    {
     "data": {
      "text/plain": [
       "(512, 217)"
      ]
     },
     "execution_count": 25,
     "metadata": {},
     "output_type": "execute_result"
    }
   ],
   "source": [
    "salinas_gt = loadmat('data/Salinas_gt.mat')['salinas_gt']\n",
    "salinas_gt.shape"
   ]
  },
  {
   "cell_type": "markdown",
   "id": "4a33ad83",
   "metadata": {},
   "source": [
    "## Q1 \n",
    "\n",
    "1. Reshape and split the data into train (80%) and test (20%) data sets.\n",
    "2. Apply all of the supervised ML algorithms we learned on the data and compare the results."
   ]
  },
  {
   "cell_type": "code",
   "execution_count": null,
   "id": "64973cf2",
   "metadata": {},
   "outputs": [],
   "source": []
  },
  {
   "cell_type": "markdown",
   "id": "27afc40f",
   "metadata": {},
   "source": [
    "## Q2\n",
    "\n",
    "Now, apply all of the unsupervised algorithms we have learned so far and compare the results. In order to align the unsupervised labels and true labels use the `linear_sum_assignment` function from `scipy.optimize`. For example, if a confusion matrix looks like:"
   ]
  },
  {
   "cell_type": "code",
   "execution_count": 30,
   "id": "f27ac6ca",
   "metadata": {},
   "outputs": [],
   "source": [
    "cm = np.array(\n",
    "      [[1,10,2],\n",
    "       [9,2,1],\n",
    "       [3,4,10]])"
   ]
  },
  {
   "cell_type": "markdown",
   "id": "44732ba2",
   "metadata": {},
   "source": [
    "we get"
   ]
  },
  {
   "cell_type": "code",
   "execution_count": 32,
   "id": "01824944",
   "metadata": {},
   "outputs": [
    {
     "data": {
      "text/plain": [
       "array([[10,  1,  2],\n",
       "       [ 2,  9,  1],\n",
       "       [ 4,  3, 10]])"
      ]
     },
     "execution_count": 32,
     "metadata": {},
     "output_type": "execute_result"
    }
   ],
   "source": [
    "rows, cols = linear_sum_assignment(cm,maximize=True)\n",
    "cm = cm[rows,:]\n",
    "cm = cm[:,cols]\n",
    "cm"
   ]
  },
  {
   "cell_type": "markdown",
   "id": "360f3b90",
   "metadata": {},
   "source": [
    "## Q3\n",
    "\n",
    "Now compare supervised and unsupervised algorithm results."
   ]
  },
  {
   "cell_type": "code",
   "execution_count": null,
   "id": "b26f5ac0",
   "metadata": {},
   "outputs": [],
   "source": []
  }
 ],
 "metadata": {
  "kernelspec": {
   "display_name": "Python 3 (ipykernel)",
   "language": "python",
   "name": "python3"
  },
  "language_info": {
   "codemirror_mode": {
    "name": "ipython",
    "version": 3
   },
   "file_extension": ".py",
   "mimetype": "text/x-python",
   "name": "python",
   "nbconvert_exporter": "python",
   "pygments_lexer": "ipython3",
   "version": "3.10.4"
  }
 },
 "nbformat": 4,
 "nbformat_minor": 5
}
