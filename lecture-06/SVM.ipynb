{
 "cells": [
  {
   "cell_type": "code",
   "execution_count": 1,
   "id": "friendly-loading",
   "metadata": {},
   "outputs": [],
   "source": [
    "import pandas as pd\n",
    "import numpy as np\n",
    "\n",
    "from sklearn.svm import LinearSVC,SVC\n",
    "from sklearn.model_selection import train_test_split\n",
    "from sklearn.metrics import confusion_matrix, accuracy_score\n",
    "from sklearn.preprocessing import MinMaxScaler\n",
    "\n",
    "from sklearn import datasets\n",
    "\n",
    "import matplotlib.pyplot as plt"
   ]
  },
  {
   "cell_type": "markdown",
   "id": "faced-separate",
   "metadata": {},
   "source": [
    "# The First Dataset"
   ]
  },
  {
   "cell_type": "code",
   "execution_count": 2,
   "id": "exempt-diploma",
   "metadata": {},
   "outputs": [],
   "source": [
    "df1 = pd.read_csv('https://archive.ics.uci.edu/ml/machine-learning-databases/haberman/haberman.data',header=None)\n",
    "\n",
    "X = df1.iloc[:,0:3]\n",
    "y = df1.iloc[:,3]\n",
    "X_train, X_test, y_train, y_test = train_test_split(X,y,test_size=0.33)"
   ]
  },
  {
   "cell_type": "code",
   "execution_count": 55,
   "id": "0da54710",
   "metadata": {},
   "outputs": [
    {
     "name": "stdout",
     "output_type": "stream",
     "text": [
      "0.693069306930693\n"
     ]
    },
    {
     "data": {
      "text/plain": [
       "array([[70, 31],\n",
       "       [ 0,  0]])"
      ]
     },
     "execution_count": 55,
     "metadata": {},
     "output_type": "execute_result"
    }
   ],
   "source": [
    "model1 = SVC(C=1.1,\n",
    "             degree=2,\n",
    "             kernel='poly',\n",
    "             max_iter=125000,\n",
    "             tol=1e-4)\n",
    "model1.fit(X_train,y_train)\n",
    "\n",
    "predicted = model1.predict(X_test)\n",
    "\n",
    "print(accuracy_score(predicted,y_test))\n",
    "confusion_matrix(predicted,y_test)"
   ]
  },
  {
   "cell_type": "markdown",
   "id": "descending-marsh",
   "metadata": {},
   "source": [
    "# The Second Dataset"
   ]
  },
  {
   "cell_type": "code",
   "execution_count": 121,
   "id": "limiting-laundry",
   "metadata": {},
   "outputs": [
    {
     "name": "stdout",
     "output_type": "stream",
     "text": [
      "0.7302631578947368\n"
     ]
    },
    {
     "data": {
      "text/plain": [
       "array([[50, 21],\n",
       "       [20, 61]])"
      ]
     },
     "execution_count": 121,
     "metadata": {},
     "output_type": "execute_result"
    }
   ],
   "source": [
    "df2 = pd.read_csv('./data/heart.csv')\n",
    "\n",
    "X = df2.iloc[:,0:13]\n",
    "y = df2.iloc[:,13]\n",
    "X_train, X_test, y_train, y_test = train_test_split(X,y,test_size=0.5)\n",
    "\n",
    "model2 = SVC(C=22.0,\n",
    "             kernel='poly',\n",
    "             degree=5,\n",
    "             max_iter=50000)\n",
    "\n",
    "model2.fit(X_train,y_train)\n",
    "\n",
    "predicted = model2.predict(X_test)\n",
    "\n",
    "print(accuracy_score(predicted,y_test))\n",
    "confusion_matrix(predicted,y_test)"
   ]
  },
  {
   "cell_type": "markdown",
   "id": "recreational-earth",
   "metadata": {},
   "source": [
    "# The Third Dataset"
   ]
  },
  {
   "cell_type": "code",
   "execution_count": 161,
   "id": "blond-columbus",
   "metadata": {},
   "outputs": [
    {
     "name": "stdout",
     "output_type": "stream",
     "text": [
      "0.734375\n"
     ]
    },
    {
     "data": {
      "text/plain": [
       "array([[107,  34],\n",
       "       [ 17,  34]])"
      ]
     },
     "execution_count": 161,
     "metadata": {},
     "output_type": "execute_result"
    }
   ],
   "source": [
    "df3 = pd.read_csv('https://raw.githubusercontent.com/jbrownlee/Datasets/master/pima-indians-diabetes.csv',header=None)\n",
    "X = df3.iloc[:,0:8]\n",
    "y = df3.iloc[:,8]\n",
    "X_train, X_test, y_train, y_test = train_test_split(X,y,test_size=0.25)\n",
    "\n",
    "model3 = SVC(C=12.0,\n",
    "             kernel='rbf',\n",
    "             max_iter=1000)\n",
    "model3.fit(X_train,y_train)\n",
    "predicted = model3.predict(X_test)\n",
    "print(accuracy_score(predicted,y_test))\n",
    "confusion_matrix(predicted,y_test)"
   ]
  },
  {
   "cell_type": "markdown",
   "id": "generic-personal",
   "metadata": {},
   "source": [
    "# The Fourth Dataset"
   ]
  },
  {
   "cell_type": "code",
   "execution_count": 185,
   "id": "common-while",
   "metadata": {},
   "outputs": [
    {
     "name": "stdout",
     "output_type": "stream",
     "text": [
      "0.9210526315789473\n",
      "[[11  0  0]\n",
      " [ 0 13  0]\n",
      " [ 0  3 11]]\n"
     ]
    }
   ],
   "source": [
    "raw = datasets.load_iris()\n",
    "X = raw['data']\n",
    "y = raw['target']\n",
    "\n",
    "X_train, X_test, y_train, y_test = train_test_split(X,y,test_size=0.25)\n",
    "\n",
    "model4 = LinearSVC(multi_class='ovr',max_iter=4500)\n",
    "model4.fit(X_train,y_train)\n",
    "\n",
    "predicted = model4.predict(X_test)\n",
    "print(accuracy_score(predicted,y_test))\n",
    "print(confusion_matrix(predicted,y_test))"
   ]
  },
  {
   "cell_type": "markdown",
   "id": "preliminary-baltimore",
   "metadata": {},
   "source": [
    "# The Fifth Dataset"
   ]
  },
  {
   "cell_type": "code",
   "execution_count": 186,
   "id": "double-excerpt",
   "metadata": {},
   "outputs": [
    {
     "name": "stdout",
     "output_type": "stream",
     "text": [
      "0.2422044960116026\n"
     ]
    },
    {
     "data": {
      "text/plain": [
       "<matplotlib.image.AxesImage at 0x7f45d9dafe20>"
      ]
     },
     "execution_count": 186,
     "metadata": {},
     "output_type": "execute_result"
    },
    {
     "data": {
      "image/png": "[encoded data removed]",
      "text/plain": [
       "<Figure size 432x288 with 1 Axes>"
      ]
     },
     "metadata": {
      "needs_background": "light"
     },
     "output_type": "display_data"
    }
   ],
   "source": [
    "df5 = pd.read_csv('https://archive.ics.uci.edu/ml/machine-learning-databases/abalone/abalone.data',header=None)\n",
    "\n",
    "X = df5.iloc[:,1:8]\n",
    "y = df5.iloc[:,8]\n",
    "X_train, X_test, y_train, y_test = train_test_split(X,y,test_size=0.33)\n",
    "\n",
    "model5 = LinearSVC(multi_class='ovr',max_iter=3500)\n",
    "model5.fit(X_train,y_train)\n",
    "predicted = model5.predict(X_test)\n",
    "print(accuracy_score(predicted,y_test))\n",
    "plt.imshow(confusion_matrix(predicted,y_test),cmap='bone')"
   ]
  },
  {
   "cell_type": "markdown",
   "id": "alert-russia",
   "metadata": {},
   "source": [
    "# The Sixth Dataset"
   ]
  },
  {
   "cell_type": "code",
   "execution_count": 187,
   "id": "ruled-egyptian",
   "metadata": {},
   "outputs": [
    {
     "name": "stdout",
     "output_type": "stream",
     "text": [
      "0.9032258064516129\n"
     ]
    },
    {
     "data": {
      "text/plain": [
       "<matplotlib.image.AxesImage at 0x7f45d9e921a0>"
      ]
     },
     "execution_count": 187,
     "metadata": {},
     "output_type": "execute_result"
    },
    {
     "data": {
      "image/png": "[encoded data removed]",
      "text/plain": [
       "<Figure size 432x288 with 1 Axes>"
      ]
     },
     "metadata": {
      "needs_background": "light"
     },
     "output_type": "display_data"
    }
   ],
   "source": [
    "df6 = datasets.fetch_20newsgroups_vectorized()\n",
    "\n",
    "X = df6['data']\n",
    "y = df6['target']\n",
    "\n",
    "X_train, X_test, y_train, y_test = train_test_split(X,y,test_size=0.2)\n",
    "\n",
    "model6 = LinearSVC(multi_class='ovr',max_iter=3500)\n",
    "model6.fit(X_train,y_train)\n",
    "predicted = model6.predict(X_test)\n",
    "print(accuracy_score(predicted,y_test))\n",
    "plt.imshow(confusion_matrix(predicted,y_test),cmap='bone')"
   ]
  },
  {
   "cell_type": "code",
   "execution_count": null,
   "id": "solid-lease",
   "metadata": {},
   "outputs": [],
   "source": []
  }
 ],
 "metadata": {
  "kernelspec": {
   "display_name": "Python 3 (ipykernel)",
   "language": "python",
   "name": "python3"
  },
  "language_info": {
   "codemirror_mode": {
    "name": "ipython",
    "version": 3
   },
   "file_extension": ".py",
   "mimetype": "text/x-python",
   "name": "python",
   "nbconvert_exporter": "python",
   "pygments_lexer": "ipython3",
   "version": "3.10.3"
  }
 },
 "nbformat": 4,
 "nbformat_minor": 5
}
